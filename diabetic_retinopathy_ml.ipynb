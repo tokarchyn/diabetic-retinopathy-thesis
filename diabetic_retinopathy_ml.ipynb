{
  "nbformat": 4,
  "nbformat_minor": 0,
  "metadata": {
    "accelerator": "GPU",
    "colab": {
      "name": "diabetic-retinopathy-ml.ipynb",
      "provenance": [],
      "collapsed_sections": [
        "J5KjMpy-VXDP",
        "DubVed_hnK4V",
        "rvNiUeCr6X2d",
        "LhRDSErnGKIY",
        "Er8XzoNHGYXp",
        "ZOeej_fKIbnf"
      ],
      "machine_shape": "hm"
    },
    "kernelspec": {
      "name": "python3",
      "display_name": "Python 3"
    },
    "language_info": {
      "codemirror_mode": {
        "name": "ipython",
        "version": 3
      },
      "file_extension": ".py",
      "mimetype": "text/x-python",
      "name": "python",
      "nbconvert_exporter": "python",
      "pygments_lexer": "ipython3",
      "version": "3.5.3"
    }
  },
  "cells": [
    {
      "cell_type": "markdown",
      "metadata": {
        "id": "JN5znD6g_vFV",
        "colab_type": "text"
      },
      "source": [
        "<a href=\"https://colab.research.google.com/github/tokarchyn/diabetic-retinopathy-thesis/blob/master/diabetic-retinopathy-ml.ipynb\" target=\"_parent\">     \n",
        "<img src=\"https://colab.research.google.com/assets/colab-badge.svg\" alt=\"Open In Colab\"/>\n",
        "</a>"
      ]
    },
    {
      "cell_type": "markdown",
      "metadata": {
        "id": "AG-XAUTpUtth",
        "colab_type": "text"
      },
      "source": [
        "# Imports and basic setups"
      ]
    },
    {
      "cell_type": "code",
      "metadata": {
        "colab_type": "code",
        "id": "nQKx-pJN_BNx",
        "outputId": "011ef24e-79fa-481a-c290-435ad53d369e",
        "colab": {
          "base_uri": "https://localhost:8080/",
          "height": 173
        }
      },
      "source": [
        "import sys\n",
        "IN_COLAB = 'google.colab' in sys.modules\n",
        "\n",
        "import math\n",
        "from matplotlib import pyplot as plt\n",
        "import cv2\n",
        "import numpy as np\n",
        "import pandas as pd\n",
        "import os\n",
        "import copy\n",
        "import glob\n",
        "from IPython.display import display, clear_output\n",
        "import seaborn as sns\n",
        "\n",
        "if IN_COLAB:\n",
        "  %tensorflow_version 2.x\n",
        "import tensorflow as tf\n",
        "from tensorflow.keras import datasets, layers, models\n",
        "from tensorflow.keras.models import Sequential\n",
        "from tensorflow.keras.layers import Dense, GlobalAveragePooling2D, Conv2D, MaxPooling2D, Dropout, Flatten, Activation, BatchNormalization\n",
        "from keras.utils.np_utils import to_categorical\n",
        "from tensorflow.keras.applications.inception_v3 import InceptionV3\n",
        "from tensorflow.keras.models import Model\n",
        "from tensorflow.keras.optimizers import SGD\n",
        "import tensorflow_addons as tfa\n",
        "import tensorflow.keras.backend as K\n",
        "\n",
        "from sklearn.metrics import confusion_matrix\n",
        "from sklearn.model_selection import train_test_split\n",
        "pd.options.mode.chained_assignment = None\n",
        "AUTOTUNE = tf.data.experimental.AUTOTUNE\n",
        "\n",
        "%precision %.5f\n",
        "np.set_printoptions(suppress=True, precision=5)\n",
        "\n",
        "from google.colab import drive\n",
        "drive.mount('/content/drive')"
      ],
      "execution_count": 1,
      "outputs": [
        {
          "output_type": "stream",
          "text": [
            "/usr/local/lib/python3.6/dist-packages/statsmodels/tools/_testing.py:19: FutureWarning: pandas.util.testing is deprecated. Use the functions in the public API at pandas.testing instead.\n",
            "  import pandas.util.testing as tm\n",
            "Using TensorFlow backend.\n"
          ],
          "name": "stderr"
        },
        {
          "output_type": "stream",
          "text": [
            "Go to this URL in a browser: https://accounts.google.com/o/oauth2/auth?client_id=947318989803-6bn6qk8qdgf4n4g3pfee6491hc0brc4i.apps.googleusercontent.com&redirect_uri=urn%3aietf%3awg%3aoauth%3a2.0%3aoob&response_type=code&scope=email%20https%3a%2f%2fwww.googleapis.com%2fauth%2fdocs.test%20https%3a%2f%2fwww.googleapis.com%2fauth%2fdrive%20https%3a%2f%2fwww.googleapis.com%2fauth%2fdrive.photos.readonly%20https%3a%2f%2fwww.googleapis.com%2fauth%2fpeopleapi.readonly\n",
            "\n",
            "Enter your authorization code:\n",
            "··········\n",
            "Mounted at /content/drive\n"
          ],
          "name": "stdout"
        }
      ]
    },
    {
      "cell_type": "code",
      "metadata": {
        "colab_type": "code",
        "id": "zjNKAMfgT0-i",
        "colab": {
          "base_uri": "https://localhost:8080/",
          "height": 544
        },
        "outputId": "d7f00561-a5c3-4635-e088-b6d31659f487"
      },
      "source": [
        "from tensorflow.python.client import device_lib\n",
        "print(device_lib.list_local_devices())"
      ],
      "execution_count": 2,
      "outputs": [
        {
          "output_type": "stream",
          "text": [
            "[name: \"/device:CPU:0\"\n",
            "device_type: \"CPU\"\n",
            "memory_limit: 268435456\n",
            "locality {\n",
            "}\n",
            "incarnation: 16754483731173356863\n",
            ", name: \"/device:XLA_CPU:0\"\n",
            "device_type: \"XLA_CPU\"\n",
            "memory_limit: 17179869184\n",
            "locality {\n",
            "}\n",
            "incarnation: 3035195586986012973\n",
            "physical_device_desc: \"device: XLA_CPU device\"\n",
            ", name: \"/device:XLA_GPU:0\"\n",
            "device_type: \"XLA_GPU\"\n",
            "memory_limit: 17179869184\n",
            "locality {\n",
            "}\n",
            "incarnation: 14853670865424828730\n",
            "physical_device_desc: \"device: XLA_GPU device\"\n",
            ", name: \"/device:GPU:0\"\n",
            "device_type: \"GPU\"\n",
            "memory_limit: 15701463552\n",
            "locality {\n",
            "  bus_id: 1\n",
            "  links {\n",
            "  }\n",
            "}\n",
            "incarnation: 17510811497741777156\n",
            "physical_device_desc: \"device: 0, name: Tesla P100-PCIE-16GB, pci bus id: 0000:00:04.0, compute capability: 6.0\"\n",
            "]\n"
          ],
          "name": "stdout"
        }
      ]
    },
    {
      "cell_type": "markdown",
      "metadata": {
        "colab_type": "text",
        "id": "v1BWVvqmhI2d"
      },
      "source": [
        "##  Define constants"
      ]
    },
    {
      "cell_type": "code",
      "metadata": {
        "colab_type": "code",
        "id": "uxgly65M_BOA",
        "colab": {}
      },
      "source": [
        "CLASS_NAMES = np.array(['No DR', 'Mild', 'Moderate', 'Severe', 'Proliferative DR'])\n",
        "CLASS_INDEXES = [0,1,2,3,4]\n",
        "WIDTH = HEIGHT = 224\n",
        "BATCH_SIZE = 32\n",
        "PROJECT_DIR = 'drive/My Drive/diabetic-retinopathy-thesis'\n",
        "BASE_IMAGE_DIR = os.path.join(PROJECT_DIR, 'train_processed')\n",
        "TRAIN_LABELS_PATH = os.path.join(PROJECT_DIR, 'trainLabels.csv')"
      ],
      "execution_count": 0,
      "outputs": []
    },
    {
      "cell_type": "markdown",
      "metadata": {
        "colab_type": "text",
        "id": "Or9VhmoNgtsM"
      },
      "source": [
        "# Process dataframe "
      ]
    },
    {
      "cell_type": "code",
      "metadata": {
        "colab_type": "code",
        "id": "ngulM9EijguA",
        "colab": {}
      },
      "source": [
        "def load_df():\n",
        "  df = pd.read_csv(TRAIN_LABELS_PATH)\n",
        "  df['image_path'] = BASE_IMAGE_DIR + '/' + df['image'].astype(str) + '.jpeg'\n",
        "  df = df.drop(columns=['image'])\n",
        "  return df\n",
        "\n",
        "def remove_unexist(df):\n",
        "  all_images = glob.glob(BASE_IMAGE_DIR + \"/*\")\n",
        "  while len(all_images) == 0:\n",
        "    all_images = glob.glob(BASE_IMAGE_DIR + \"/*\")\n",
        "  print('Found', len(all_images), 'images')\n",
        "  df['exists'] = df['image_path'].map(lambda p: p in all_images)\n",
        "  df = df[df['exists']].drop(columns=['exists'])\n",
        "  print('Number of existed images is', len(df))\n",
        "  return df\n",
        "\n",
        "def train_val_split(df):\n",
        "  train_img, val_img = train_test_split(df['image_path'], \n",
        "                                        test_size = 0.20, \n",
        "                                        random_state = 2020,\n",
        "                                        stratify = df['level'].to_frame())\n",
        "  train_df = df[df['image_path'].isin(train_img)]\n",
        "  val_df = df[df['image_path'].isin(val_img)]\n",
        "  print('Train dataframe size:', train_df.shape[0], 'Validation dataframe size:', val_df.shape[0])\n",
        "  return train_df, val_df\n",
        "\n",
        "def calc_weights(df):\n",
        "  level_counts = df['level'].value_counts().sort_index()\n",
        "  weights = {cls: len(df) / count for cls, count in enumerate(level_counts)}\n",
        "  print('Weights for each level:\\n', weights)\n",
        "  return weights\n",
        "\n",
        "def get_samples_of_level(df, level, count):\n",
        "  to_add = []\n",
        "  it = iter(df[df['level']==level].iterrows())\n",
        "\n",
        "  while count > len(to_add):\n",
        "    _, row = None, None\n",
        "    try:\n",
        "      _, row = next(it)\n",
        "    except StopIteration:\n",
        "      it = iter(df[df['level']==level].iterrows())\n",
        "      _, row = next(it)\n",
        "    to_add.append(copy.deepcopy(row))\n",
        "\n",
        "  return to_add\n",
        "\n",
        "# Upsampling and Downsampling based on multiplicator or exact count for each category\n",
        "# For example multipliers={0: 2} will take 2 times more samples of category 0 than exist.\n",
        "def balancing(df, multipliers=None, counts=None):\n",
        "  max_level_count = df['level'].value_counts().max()\n",
        "\n",
        "  for level in df['level'].unique():\n",
        "    count_of_level = df[df['level']==level].count()[0]\n",
        "\n",
        "    count_diff = 0\n",
        "    if multipliers != None:\n",
        "      if level in multipliers:\n",
        "        count_diff = int(count_of_level * multipliers[level]) - count_of_level\n",
        "    elif counts != None:\n",
        "      if level in counts:\n",
        "        count_diff = counts[level] - count_of_level\n",
        "    else:\n",
        "      if count_of_level == max_level_count:\n",
        "        continue\n",
        "      count_diff = max_level_count - count_of_level\n",
        "\n",
        "    if count_diff == 0:\n",
        "      continue\n",
        "    print('Need to add(or remove)',count_diff, 'copies of level', level, 'where count of level is', count_of_level)\n",
        "    if count_diff < 0:\n",
        "      df_level = df[df['level'] == level] \n",
        "      df = df.drop(df_level.sample(count_diff * -1).index)\n",
        "    else:    \n",
        "      df = df.append(get_samples_of_level(df, level, count_diff), ignore_index=True)\n",
        "\n",
        "  return df\n",
        "\n",
        "def shrink_dataset_equally(df, number_of_each_level=None):\n",
        "  levels = df['level'].unique()\n",
        "\n",
        "  if number_of_each_level is None:\n",
        "    number_of_each_level = df['level'].value_counts().min()\n",
        "\n",
        "  def get_rows(df_tmp):\n",
        "    size = len(df_tmp)\n",
        "    return df_tmp.sample(number_of_each_level) if size >= number_of_each_level else df_tmp\n",
        "\n",
        "  df_tmp = get_rows(df[df['level'] == levels[0]])\n",
        "  for l in levels[1:]:\n",
        "      df_tmp = df_tmp.append(get_rows(df[df['level'] == l]), ignore_index=True)\n",
        "  return df_tmp\n",
        "\n",
        "def shrink_dataset(df, count):\n",
        "  return df[:count]\n",
        "\n",
        "def shuffle(df):\n",
        "  df = df.sample(frac=1).reset_index(drop=True)\n",
        "  return df\n",
        "\n",
        "def prepare_data():\n",
        "  df = load_df()\n",
        "  df = remove_unexist(df)\n",
        "  df = shuffle(df)\n",
        "  # df = shrink_dataset(df, 10000)\n",
        "\n",
        "  train_df, val_df = train_val_split(df)\n",
        "  # train_df = balancing(train_df) # take the same number of samples as majority category has\n",
        "  # train_df = balancing(train_df, multipliers={0:0.3, 1:0.7, 2:0.4, 3:2, 4:2})\n",
        "  train_df = balancing(train_df, counts={0:6000, 1:6000, 2:6000, 3:6000, 4:6000}) # take some samples from each category\n",
        "  # train_df = shrink_dataset_equally(train_df)\n",
        "  train_df = shuffle(train_df)\n",
        "  weights = calc_weights(train_df)\n",
        "\n",
        "  return train_df, val_df, weights"
      ],
      "execution_count": 0,
      "outputs": []
    },
    {
      "cell_type": "code",
      "metadata": {
        "colab_type": "code",
        "id": "z87lfvc6_BN3",
        "outputId": "4803fabb-01a2-4d90-81b2-e5acb748e194",
        "colab": {
          "base_uri": "https://localhost:8080/",
          "height": 187
        }
      },
      "source": [
        "train_df, val_df, weights = prepare_data()"
      ],
      "execution_count": 142,
      "outputs": [
        {
          "output_type": "stream",
          "text": [
            "Found 35126 images\n",
            "Number of existed images is 35126\n",
            "Train dataframe size: 28100 Validation dataframe size: 7026\n",
            "Need to add(or remove) -14648 copies of level 0 where count of level is 20648\n",
            "Need to add(or remove) 1766 copies of level 2 where count of level is 4234\n",
            "Need to add(or remove) 4046 copies of level 1 where count of level is 1954\n",
            "Need to add(or remove) 5434 copies of level 4 where count of level is 566\n",
            "Need to add(or remove) 5302 copies of level 3 where count of level is 698\n",
            "Weights for each level:\n",
            " {0: 5.0, 1: 5.0, 2: 5.0, 3: 5.0, 4: 5.0}\n"
          ],
          "name": "stdout"
        }
      ]
    },
    {
      "cell_type": "code",
      "metadata": {
        "id": "G0Kebcvo8Qyc",
        "colab_type": "code",
        "outputId": "6dc0b29c-9326-466c-8405-47553d45d400",
        "colab": {
          "base_uri": "https://localhost:8080/",
          "height": 186
        }
      },
      "source": [
        "val_df['level'].value_counts().plot(kind='bar', figsize=(5,2), title='Level distribution')"
      ],
      "execution_count": 8,
      "outputs": [
        {
          "output_type": "execute_result",
          "data": {
            "text/plain": [
              "<matplotlib.axes._subplots.AxesSubplot at 0x7f2d8a68e898>"
            ]
          },
          "metadata": {
            "tags": []
          },
          "execution_count": 8
        },
        {
          "output_type": "display_data",
          "data": {
            "image/png": "[encoded data removed]",
            "text/plain": [
              "<Figure size 360x144 with 1 Axes>"
            ]
          },
          "metadata": {
            "tags": [],
            "needs_background": "light"
          }
        }
      ]
    },
    {
      "cell_type": "markdown",
      "metadata": {
        "colab_type": "text",
        "id": "X67SvwtAn_Os"
      },
      "source": [
        "# Build input pipeline"
      ]
    },
    {
      "cell_type": "markdown",
      "metadata": {
        "id": "j7ABUpKJ_vF3",
        "colab_type": "text"
      },
      "source": [
        "#### Augmentation functions"
      ]
    },
    {
      "cell_type": "code",
      "metadata": {
        "id": "Jf2vGD0e_vF5",
        "colab_type": "code",
        "colab": {}
      },
      "source": [
        "def rotate(x):\n",
        "  # Rotate 0, 90, 180, 270 degrees\n",
        "  return tf.image.rot90(x, tf.random.uniform(shape=[], minval=0, maxval=4, dtype=tf.int32))\n",
        "\n",
        "def flip(x):\n",
        "  x = tf.image.random_flip_left_right(x)\n",
        "  x = tf.image.random_flip_up_down(x)\n",
        "  return x\n",
        "\n",
        "def color(x):\n",
        "  x = tf.image.random_hue(x, 0.14)\n",
        "  x = tf.image.random_saturation(x, 0.7, 1.5)\n",
        "  x = tf.image.random_brightness(x, 0.1)\n",
        "  x = tf.image.random_contrast(x, 0.8, 1.5)\n",
        "  return x\n",
        "\n",
        "def zoom(x):\n",
        "  # Generate 20 crop settings, ranging from a 1% to 10% crop.\n",
        "  scales = list(np.arange(0.9, 1, 0.01))\n",
        "  boxes = np.zeros((len(scales), 4))\n",
        "\n",
        "  for i, scale in enumerate(scales):\n",
        "    x1 = y1 = 0.5 - (0.5 * scale)\n",
        "    x2 = y2 = 0.5 + (0.5 * scale)\n",
        "    boxes[i] = [x1, y1, x2, y2]\n",
        "\n",
        "  def random_crop(img):\n",
        "    # Create different crops for an image\n",
        "    crops = tf.image.crop_and_resize([img], boxes=boxes, box_indices=np.zeros(len(scales)), crop_size=(HEIGHT, WIDTH))\n",
        "    # Return a random crop\n",
        "    return crops[tf.random.uniform(shape=[], minval=0, maxval=len(scales), dtype=tf.int32)]\n",
        "\n",
        "  choice = tf.random.uniform(shape=[], minval=0., maxval=1., dtype=tf.float32)\n",
        "\n",
        "  # Only apply cropping 50% of the time\n",
        "  return tf.cond(choice < 0.5, lambda: x, lambda: random_crop(x))\n",
        "\n",
        "\n",
        "def augment(dataset, aug_probability=1):\n",
        "  augmentations = [flip, rotate, color, zoom]\n",
        "\n",
        "  def augment_map(img, level, aug_fun):\n",
        "    # return (aug_fun(img), level)\n",
        "    return (tf.cond(tf.math.argmax(level, axis = 0) == 0, lambda: img, lambda: aug_fun(img)), level)\n",
        "    # choice = tf.random.uniform(shape=[], minval=0., maxval=1., dtype=tf.float32)\n",
        "    # return (tf.cond(choice < aug_probability, lambda: img, lambda: aug_fun(img)),\n",
        "    #         level)\n",
        "    \n",
        "  # Add the augmentations to the dataset\n",
        "  for f in augmentations:\n",
        "    dataset = dataset.map(lambda img, level: augment_map(img,level,f), num_parallel_calls=AUTOTUNE)\n",
        "\n",
        "  # Make sure that the values are still in [0, 1]\n",
        "  dataset = dataset.map(lambda img, level: (tf.clip_by_value(img, 0, 1),level), num_parallel_calls=AUTOTUNE)\n",
        "  return dataset"
      ],
      "execution_count": 0,
      "outputs": []
    },
    {
      "cell_type": "markdown",
      "metadata": {
        "id": "hskOcpuBlxCf",
        "colab_type": "text"
      },
      "source": [
        "#### Work with batches"
      ]
    },
    {
      "cell_type": "code",
      "metadata": {
        "colab_type": "code",
        "id": "Nn8fi-uL_BN8",
        "colab": {}
      },
      "source": [
        "def get_input_shape():\n",
        "  return (HEIGHT, WIDTH, 3)\n",
        "\n",
        "def decode_img(img):\n",
        "  # convert the compressed string to a 3D uint8 tensor\n",
        "  img = tf.image.decode_jpeg(img, channels=3)\n",
        "  # Use `convert_image_dtype` to convert to floats in the [0,1] range.\n",
        "  img = tf.image.convert_image_dtype(img, tf.float32)\n",
        "  # resize the image to the desired size.\n",
        "  return tf.image.resize(img, [WIDTH, HEIGHT])\n",
        "\n",
        "def get_label(level):\n",
        "  return tf.cast(level == CLASS_INDEXES, dtype=tf.float32)\n",
        "\n",
        "def process_path(file_path, level):\n",
        "  label = get_label(level)\n",
        "  img = tf.io.read_file(file_path)\n",
        "  img = decode_img(img)\n",
        "  return img, label\n",
        "\n",
        "def prepare(ds, shuffle_buffer_size=1000):\n",
        "  ds = ds.shuffle(buffer_size=shuffle_buffer_size)\n",
        "  ds = ds.repeat()\n",
        "  ds = ds.batch(BATCH_SIZE)\n",
        "  ds = ds.prefetch(buffer_size=AUTOTUNE)\n",
        "  return ds\n",
        "\n",
        "def show_batch(image_batch, label_batch, number_to_show=4, predicted_labels=None):\n",
        "  row_count = math.ceil(number_to_show / 4)\n",
        "  fig, m_axs = plt.subplots(row_count, 4, figsize = (16, row_count * 4))\n",
        "  for i, (c_x, c_y, c_ax) in enumerate(zip(image_batch, label_batch, m_axs.flatten())):\n",
        "    c_ax.imshow(c_x)\n",
        "    real_level = CLASS_NAMES[c_y==1][0]\n",
        "    pred_level = ''\n",
        "    title = 'Real level: ' + real_level\n",
        "    if predicted_labels is not None:\n",
        "      pred_level = CLASS_NAMES[predicted_labels[i]]\n",
        "      title = title + '\\nPredicted one: ' + pred_level\n",
        "    c_ax.set_title(title, color='g' if pred_level == '' or real_level == pred_level else 'r')\n",
        "    c_ax.axis('off')     \n",
        "\n",
        "def dataset_from_tensor_slices(df):\n",
        "  return tf.data.Dataset.from_tensor_slices((\n",
        "      df['image_path'].to_numpy(copy=True),\n",
        "      df['level'].to_numpy(copy=True)))\n",
        "\n",
        "def create_datasets(train_df, val_df):\n",
        "  train_ds = dataset_from_tensor_slices(train_df)\n",
        "  val_ds = dataset_from_tensor_slices(val_df)\n",
        "\n",
        "  train_ds = train_ds.map(process_path, num_parallel_calls=AUTOTUNE)\n",
        "  # train_ds = train_ds.cache()\n",
        "  # train_ds = train_ds.cache('train_cache')\n",
        "  train_ds = augment(train_ds)\n",
        "  train_ds = prepare(train_ds)\n",
        "\n",
        "  val_ds = val_ds.map(process_path, num_parallel_calls=AUTOTUNE)\n",
        "  # val_ds = val_ds.cache()\n",
        "  # val_ds = val_ds.cache('val_cache')\n",
        "  val_ds = prepare(val_ds)\n",
        "  \n",
        "  return train_ds, len(train_df), val_ds, len(val_df)"
      ],
      "execution_count": 0,
      "outputs": []
    },
    {
      "cell_type": "code",
      "metadata": {
        "colab_type": "code",
        "id": "i1sd3uAX7fYL",
        "colab": {}
      },
      "source": [
        "train_ds, train_count, val_ds, val_count = create_datasets(train_df, val_df)"
      ],
      "execution_count": 0,
      "outputs": []
    },
    {
      "cell_type": "markdown",
      "metadata": {
        "id": "zO6c8CjSVO2O",
        "colab_type": "text"
      },
      "source": [
        "# Define callbacks and metrics"
      ]
    },
    {
      "cell_type": "markdown",
      "metadata": {
        "id": "J5KjMpy-VXDP",
        "colab_type": "text"
      },
      "source": [
        "#### Training History Callback\n",
        "Helps with persist all metrics and weights in situation when you interupt training"
      ]
    },
    {
      "cell_type": "code",
      "metadata": {
        "id": "hnTsIrLlVa_2",
        "colab_type": "code",
        "colab": {}
      },
      "source": [
        "class TrainingHistoryCallback(tf.keras.callbacks.Callback):\n",
        "  def __init__(self, metrics, save_weights=True):\n",
        "    self.metrics = {}\n",
        "    self.weights = []\n",
        "    self.save_weights = save_weights\n",
        "    for m in metrics:\n",
        "      self.metrics[m] = []\n",
        "      self.metrics['val_' + m] = []\n",
        "\n",
        "  def on_epoch_end(self, epoch, logs=None):\n",
        "    for key in self.metrics.keys():\n",
        "      self.metrics[key].append(logs.get(key))\n",
        "    if self.save_weights:\n",
        "      self.weights.append([])\n",
        "      for l in model.layers:\n",
        "        self.weights[len(self.weights)-1].append(l.get_weights())"
      ],
      "execution_count": 0,
      "outputs": []
    },
    {
      "cell_type": "markdown",
      "metadata": {
        "id": "DubVed_hnK4V",
        "colab_type": "text"
      },
      "source": [
        "#### Cohen Kappa loss and metric\n",
        "Intersting idea. Instead of optimizing standart loss we can optimize directly Cohen Kappa, which is used in Kaggle competitions. This metric is better choice for imbalance data set."
      ]
    },
    {
      "cell_type": "code",
      "metadata": {
        "id": "lklmvq63nKeR",
        "colab_type": "code",
        "colab": {}
      },
      "source": [
        "def cohen_kappa_loss(y_true, y_pred, row_label_vec, col_label_vec, weight_mat,  eps=1e-6, dtype=tf.float32):\n",
        "    labels = tf.matmul(y_true, col_label_vec)\n",
        "    weight = tf.pow(tf.tile(labels, [1, tf.shape(y_true)[1]]) - tf.tile(row_label_vec, [tf.shape(y_true)[0], 1]), 2)\n",
        "    weight /= tf.cast(tf.pow(tf.shape(y_true)[1] - 1, 2), dtype=dtype)\n",
        "    numerator = tf.reduce_sum(weight * y_pred)\n",
        "    \n",
        "    denominator = tf.reduce_sum(\n",
        "        tf.matmul(\n",
        "            tf.reduce_sum(y_true, axis=0, keepdims=True),\n",
        "            tf.matmul(weight_mat, tf.transpose(tf.reduce_sum(y_pred, axis=0, keepdims=True)))\n",
        "        )\n",
        "    )\n",
        "    \n",
        "    denominator /= tf.cast(tf.shape(y_true)[0], dtype=dtype)\n",
        "    \n",
        "    return tf.math.log(numerator / denominator + eps)\n",
        "\n",
        "class CohenKappaLoss(tf.keras.losses.Loss):\n",
        "    def __init__(self,\n",
        "                 num_classes,\n",
        "                 name='cohen_kappa_loss',\n",
        "                 eps=1e-6,\n",
        "                 dtype=tf.float32):\n",
        "        super(CohenKappaLoss, self).__init__(name=name, reduction=tf.keras.losses.Reduction.NONE)\n",
        "        \n",
        "        self.num_classes = num_classes\n",
        "        self.eps = eps\n",
        "        self.dtype = dtype\n",
        "        label_vec = tf.range(num_classes, dtype=dtype)\n",
        "        self.row_label_vec = tf.reshape(label_vec, [1, num_classes])\n",
        "        self.col_label_vec = tf.reshape(label_vec, [num_classes, 1])\n",
        "        self.weight_mat = tf.pow(\n",
        "            tf.tile(self.col_label_vec, [1, num_classes]) - tf.tile(self.row_label_vec, [num_classes, 1]),\n",
        "        2) / tf.cast(tf.pow(num_classes - 1, 2), dtype=dtype)\n",
        "\n",
        "\n",
        "    def call(self, y_true, y_pred, sample_weight=None):\n",
        "        return cohen_kappa_loss(\n",
        "            y_true, y_pred, self.row_label_vec, self.col_label_vec, self.weight_mat, self.eps, self.dtype\n",
        "        )\n",
        "\n",
        "\n",
        "    def get_config(self):\n",
        "        config = {\n",
        "            \"num_classes\": self.num_classes,\n",
        "            \"eps\": self.eps,\n",
        "            \"dtype\": self.dtype\n",
        "        }\n",
        "        base_config = super(CohenKappaLoss, self).get_config()\n",
        "        return dict(list(base_config.items()) + list(config.items()))"
      ],
      "execution_count": 0,
      "outputs": []
    },
    {
      "cell_type": "markdown",
      "metadata": {
        "id": "rvNiUeCr6X2d",
        "colab_type": "text"
      },
      "source": [
        "#### Recall of sick category\n",
        "Treats all sick people as one category. The lower recall, means we skip more pacient who needs the treatment.  "
      ]
    },
    {
      "cell_type": "code",
      "metadata": {
        "id": "zaYlDzqv6kAZ",
        "colab_type": "code",
        "colab": {}
      },
      "source": [
        "class Recall(tf.keras.metrics.Metric):\n",
        "\n",
        "    def __init__(self, name='recall_multi', **kwargs):\n",
        "      super(Recall, self).__init__(name=name, **kwargs)\n",
        "      self.builtin_metric = tf.keras.metrics.Recall()\n",
        "\n",
        "    def update_state(self, y_true, y_pred, sample_weight=None):\n",
        "      non_healthy_gt = tf.math.greater(tf.math.argmax(y_true, axis=1), 0)\n",
        "      non_healthy_pr = tf.math.greater(tf.math.argmax(y_pred, axis=1), 0)\n",
        "      self.builtin_metric.update_state(non_healthy_gt, non_healthy_pr)\n",
        "\n",
        "    def result(self):\n",
        "      return self.builtin_metric.result()\n",
        "\n",
        "    def reset_states(self):\n",
        "      # The state of the metric will be reset at the start of each epoch.\n",
        "      self.builtin_metric.reset_states()"
      ],
      "execution_count": 0,
      "outputs": []
    },
    {
      "cell_type": "markdown",
      "metadata": {
        "id": "uJw_xK3pExy-",
        "colab_type": "text"
      },
      "source": [
        "#### **List callbacks and metrics to use in model**"
      ]
    },
    {
      "cell_type": "code",
      "metadata": {
        "id": "55tlQ6YjCh81",
        "colab_type": "code",
        "colab": {}
      },
      "source": [
        "def get_callbacks(save_best_models=True, early_stopping=True, reduce_lr_on_plateau=True):\n",
        "  callbacks = []\n",
        "  if save_best_models:\n",
        "    callbacks.append(tf.keras.callbacks.ModelCheckpoint(\n",
        "        os.path.join(PROJECT_DIR, 'models/model.e_{epoch:02d}-acc_{val_categorical_accuracy:.2f}-f1_{val_f1_score}.hdf5'), \n",
        "        monitor='val_categorical_accuracy', \n",
        "        verbose=0, \n",
        "        save_best_only=True, \n",
        "        save_weights_only=False, \n",
        "        mode='auto'))\n",
        "  if early_stopping:\n",
        "    callbacks.append(tf.keras.callbacks.EarlyStopping(\n",
        "        monitor='val_categorical_accuracy', \n",
        "        patience=20, \n",
        "        restore_best_weights=True))\n",
        "  if reduce_lr_on_plateau:\n",
        "    callbacks.append(tf.keras.callbacks.ReduceLROnPlateau(\n",
        "        monitor='val_loss', \n",
        "        factor=0.8, \n",
        "        patience=3, \n",
        "        verbose=1, \n",
        "        mode='auto', \n",
        "        epsilon=0.0001, \n",
        "        cooldown=5, \n",
        "        min_lr=0.00001))\n",
        "  return callbacks\n",
        "\n",
        "def top_2_accuracy(in_gt, in_pred):\n",
        "  return tf.keras.metrics.top_k_categorical_accuracy(in_gt, in_pred, k=2)\n",
        "\n",
        "def get_metrics():\n",
        "  return ['categorical_accuracy', tfa.metrics.F1Score(len(CLASS_INDEXES)), Recall(), top_2_accuracy]"
      ],
      "execution_count": 0,
      "outputs": []
    },
    {
      "cell_type": "markdown",
      "metadata": {
        "id": "8ONb5zB3LyuU",
        "colab_type": "text"
      },
      "source": [
        "# Model Definitions"
      ]
    },
    {
      "cell_type": "markdown",
      "metadata": {
        "id": "LhRDSErnGKIY",
        "colab_type": "text"
      },
      "source": [
        "#### My Custom Model"
      ]
    },
    {
      "cell_type": "code",
      "metadata": {
        "id": "IHKewlWuGJYy",
        "colab_type": "code",
        "colab": {}
      },
      "source": [
        "def get_model():\n",
        "  model = models.Sequential()\n",
        "\n",
        "  model.add(Conv2D(32, (3, 3), padding='same', activation='relu', input_shape=get_input_shape()))\n",
        "  model.add(BatchNormalization())\n",
        "  model.add(MaxPooling2D())\n",
        "\n",
        "  model.add(Conv2D(32, (3, 3), padding='same', activation='relu'))\n",
        "  model.add(BatchNormalization())\n",
        "  model.add(MaxPooling2D())\n",
        "\n",
        "  model.add(Conv2D(64, (3, 3), padding='same', activation='relu'))\n",
        "  model.add(BatchNormalization())\n",
        "  model.add(MaxPooling2D())\n",
        "\n",
        "  model.add(Conv2D(64, (3, 3), padding='same', activation='relu'))\n",
        "  model.add(BatchNormalization())\n",
        "  model.add(MaxPooling2D())\n",
        "\n",
        "  model.add(Conv2D(128, (3, 3), padding='same', activation='relu'))\n",
        "  model.add(BatchNormalization())\n",
        "  model.add(MaxPooling2D())\n",
        "\n",
        "  model.add(Conv2D(128, (3, 3), padding='same', activation='relu'))\n",
        "  model.add(BatchNormalization())\n",
        "  model.add(MaxPooling2D())\n",
        "\n",
        "  model.add(Conv2D(256, (3, 3), padding='same', activation='relu'))\n",
        "  model.add(BatchNormalization())\n",
        "\n",
        "  model.add(Conv2D(256, (3, 3), padding='same', activation='relu'))\n",
        "  model.add(BatchNormalization())\n",
        "  model.add(MaxPooling2D())\n",
        "\n",
        "  model.add(Conv2D(512, (3, 3), padding='same', activation='relu'))\n",
        "  model.add(BatchNormalization())\n",
        "\n",
        "  model.add(Conv2D(512, (3, 3), padding='same', activation='relu'))\n",
        "  model.add(BatchNormalization())\n",
        "  model.add(MaxPooling2D())\n",
        "\n",
        "  model.add(GlobalAveragePooling2D())\n",
        "  model.add(Dropout(0.5))\n",
        "  model.add(Dense(2048, activation='relu'))\n",
        "  model.add(Dropout(0.5))\n",
        "  model.add(Dense(2048, activation='relu'))\n",
        "  model.add(Dropout(0.5))\n",
        "  model.add(Dense(len(CLASS_NAMES), activation='softmax'))\n",
        "\n",
        "  optimizer = tf.keras.optimizers.Adam(learning_rate=0.00002)\n",
        "  model.compile(optimizer = optimizer, loss = 'categorical_crossentropy', metrics=get_metrics())\n",
        "  return model"
      ],
      "execution_count": 0,
      "outputs": []
    },
    {
      "cell_type": "markdown",
      "metadata": {
        "id": "Er8XzoNHGYXp",
        "colab_type": "text"
      },
      "source": [
        "#### Vgg-19\n",
        "[Lecture from Stanford](http://cs231n.stanford.edu/slides/2017/cs231n_2017_lecture9.pdf)"
      ]
    },
    {
      "cell_type": "code",
      "metadata": {
        "id": "qesm4UHYGQmr",
        "colab_type": "code",
        "colab": {}
      },
      "source": [
        "def get_vgg_model():\n",
        "  model = Sequential()\n",
        "  model.add(Conv2D(64, (3, 3), padding = \"same\", activation = \"relu\", input_shape = get_input_shape()))\n",
        "  model.add(Conv2D(64, (3, 3), padding = \"same\", activation = \"relu\"))\n",
        "  model.add(MaxPooling2D((2, 2)))\n",
        "  # model.add(BatchNormalization())\n",
        "\n",
        "  model.add(Conv2D(128, (3, 3), padding = \"same\", activation = \"relu\"))\n",
        "  model.add(Conv2D(128, (3, 3), padding = \"same\", activation = \"relu\"))\n",
        "  model.add(MaxPooling2D((2, 2)))\n",
        "  # model.add(BatchNormalization())\n",
        "\n",
        "  model.add(Conv2D(256, (3, 3), padding = \"same\", activation = \"relu\"))\n",
        "  model.add(Conv2D(256, (3, 3), padding = \"same\", activation = \"relu\"))\n",
        "  model.add(MaxPooling2D((2, 2)))\n",
        "  # model.add(BatchNormalization())\n",
        "\n",
        "  model.add(Conv2D(512, (3, 3), padding = \"same\", activation = \"relu\"))\n",
        "  model.add(Conv2D(512, (3, 3), padding = \"same\", activation = \"relu\"))\n",
        "  model.add(Conv2D(512, (3, 3), padding = \"same\", activation = \"relu\"))\n",
        "  model.add(Conv2D(512, (3, 3), padding = \"same\", activation = \"relu\"))\n",
        "  model.add(MaxPooling2D((2, 2)))\n",
        "  # model.add(BatchNormalization())\n",
        "\n",
        "  model.add(Conv2D(512, (3, 3), padding = \"same\", activation = \"relu\"))\n",
        "  model.add(Conv2D(512, (3, 3), padding = \"same\", activation = \"relu\"))\n",
        "  model.add(Conv2D(512, (3, 3), padding = \"same\", activation = \"relu\"))\n",
        "  model.add(Conv2D(512, (3, 3), padding = \"same\", activation = \"relu\"))\n",
        "  model.add(MaxPooling2D((2, 2)))\n",
        "  # model.add(BatchNormalization())\n",
        "\n",
        "  model.add(Flatten())\n",
        "  model.add(Dense(4096, activation = \"relu\"))\n",
        "  model.add(Dropout(0.5))\n",
        "  model.add(Dense(4096, activation = \"relu\"))\n",
        "  model.add(Dropout(0.5))\n",
        "  model.add(Dense(1024, activation = \"relu\"))\n",
        "  model.add(Dropout(0.5))\n",
        "  model.add(Dense(len(CLASS_NAMES), activation = \"softmax\"))\n",
        "\n",
        "  optimizer = tf.keras.optimizers.Adam(learning_rate=0.00002)\n",
        "  model.compile(optimizer = optimizer, loss = CohenKappaLoss(5), metrics=get_metrics())\n",
        "  return model"
      ],
      "execution_count": 0,
      "outputs": []
    },
    {
      "cell_type": "markdown",
      "metadata": {
        "id": "ZOeej_fKIbnf",
        "colab_type": "text"
      },
      "source": [
        "#### Inception v3\n",
        "The Fine-Tuning technique is used here. "
      ]
    },
    {
      "cell_type": "code",
      "metadata": {
        "id": "_1qF6kP_Jv3h",
        "colab_type": "code",
        "colab": {}
      },
      "source": [
        "def get_inception_v3(train, train_count, weights, freeze_layers_number):\n",
        "  # create the base pre-trained model\n",
        "  base_model = InceptionV3(weights='imagenet', \n",
        "                           include_top=False, \n",
        "                           input_shape=(HEIGHT, WIDTH, 3))\n",
        "\n",
        "  # add a global spatial average pooling layer\n",
        "  x = base_model.output\n",
        "  x = Dropout(0.5)(x)\n",
        "  x = BatchNormalization()(x)\n",
        "\n",
        "  # x = Conv2D(256, (3, 3), strides=1,  padding = \"same\", activation = \"relu\")(x)\n",
        "  # x = Conv2D(256, (3, 3), strides=1,  padding = \"same\", activation = \"relu\")(x)\n",
        "  # x = MaxPooling2D((3, 3), strides=2)(x)\n",
        "  # x = BatchNormalization()(x)\n",
        "\n",
        "  # let's add a fully-connected layer\n",
        "  x = GlobalAveragePooling2D()(x)\n",
        "  x = Dense(1024, activation='relu')(x)\n",
        "  x = Dropout(0.5)(x)\n",
        "  x = Dense(1024, activation='relu')(x)\n",
        "  x = Dropout(0.5)(x)\n",
        "  predictions = Dense(len(CLASS_NAMES), activation='softmax')(x)\n",
        "\n",
        "  # this is the model we will train\n",
        "  model = Model(inputs=base_model.input, outputs=predictions)\n",
        "\n",
        "  # first: train only the top layers (which were randomly initialized)\n",
        "  # i.e. freeze all convolutional InceptionV3 layers\n",
        "  for layer in base_model.layers:\n",
        "      layer.trainable = False\n",
        "    \n",
        "  # compile the model (should be done *after* setting layers to non-trainable)\n",
        "  model.compile(optimizer=tf.keras.optimizers.Adam(learning_rate=0.001), loss='categorical_crossentropy')\n",
        "\n",
        "  # train the model on the new data for a few epochs\n",
        "  model.fit(train, steps_per_epoch=train_count // BATCH_SIZE, epochs=1,\n",
        "          class_weight=weights)\n",
        "\n",
        "  # at this point, the top layers are well trained and we can start fine-tuning\n",
        "  # convolutional layers from inception V3. We will freeze the bottom N layers\n",
        "  # and train the remaining top layers.\n",
        "\n",
        "  # let's visualize layer names and layer indices to see how many layers\n",
        "  # we should freeze:\n",
        "  # for i, layer in enumerate(base_model.layers):\n",
        "  #   print(i, layer.name)\n",
        "\n",
        "  # we chose to train the top 2 inception blocks, i.e. we will freeze\n",
        "  # the first 249(172) layers and unfreeze the rest:\n",
        "  for layer in model.layers[:freeze_layers_number]:\n",
        "    layer.trainable = False\n",
        "  for layer in model.layers[freeze_layers_number:]:\n",
        "    layer.trainable = True\n",
        "\n",
        "  # we need to recompile the model for these modifications to take effect\n",
        "  # we use SGD with a low learning rate\n",
        "  model.compile(optimizer=tf.keras.optimizers.Adam(learning_rate=0.001), \n",
        "                loss='categorical_crossentropy',\n",
        "                metrics=get_metrics())\n",
        "\n",
        "  # we train our model again (this time fine-tuning the top 2 inception blocks\n",
        "  # alongside the top Dense layers\n",
        "  \n",
        "  return model"
      ],
      "execution_count": 0,
      "outputs": []
    },
    {
      "cell_type": "markdown",
      "metadata": {
        "id": "9Jvr2zh_J1KS",
        "colab_type": "text"
      },
      "source": [
        "#### All-Cnn\n",
        "Proposed [here](https://link.springer.com/chapter/10.1007/978-3-030-34869-4_21)"
      ]
    },
    {
      "cell_type": "code",
      "metadata": {
        "id": "h9WiRlQOTsPH",
        "colab_type": "code",
        "colab": {}
      },
      "source": [
        "def get_all_cnn_model():\n",
        "  model = Sequential()\n",
        "\n",
        "  model.add(Conv2D(32, (7, 7), strides=1, activation = \"relu\",  padding = \"valid\", input_shape = get_input_shape()))\n",
        "  model.add(BatchNormalization())\n",
        "  model.add(Dropout(0.5))\n",
        "  model.add(Conv2D(32, (5, 5), strides=1, activation = \"relu\",  padding = \"valid\"))\n",
        "  model.add(BatchNormalization())\n",
        "  model.add(Dropout(0.5))\n",
        "  model.add(Conv2D(32, (3, 3), strides=2, activation = \"relu\",  padding = \"valid\"))\n",
        "\n",
        "  model.add(Conv2D(64, (3, 3), strides=1, activation = \"relu\",  padding = \"valid\"))\n",
        "  model.add(BatchNormalization())\n",
        "  model.add(Dropout(0.5))\n",
        "  model.add(Conv2D(64, (3, 3), strides=2, activation = \"relu\",  padding = \"valid\"))\n",
        "\n",
        "  model.add(Conv2D(128, (3, 3), strides=1, activation = \"relu\",  padding = \"valid\"))\n",
        "  model.add(BatchNormalization())\n",
        "  model.add(Dropout(0.5))\n",
        "  model.add(Conv2D(128, (3, 3), strides=2, activation = \"relu\",  padding = \"valid\"))\n",
        "\n",
        "  model.add(Conv2D(128, (3, 3), strides=1, activation = \"relu\",  padding = \"valid\"))\n",
        "  model.add(BatchNormalization())\n",
        "  model.add(Dropout(0.5))\n",
        "\n",
        "  model.add(Conv2D(128, (1, 1), strides=1, activation = \"relu\",  padding = \"valid\"))\n",
        "  model.add(BatchNormalization())\n",
        "  model.add(Dropout(0.5))\n",
        "  model.add(Conv2D(5, (1, 1), strides=1, activation = \"relu\",  padding = \"valid\"))\n",
        "  model.add(Flatten())\n",
        "  model.add(Dense(len(CLASS_NAMES), activation = \"softmax\"))\n",
        "\n",
        "  optimizer = tf.keras.optimizers.SGD(learning_rate=0.001)\n",
        "  model.compile(optimizer = optimizer, loss = \"categorical_crossentropy\", metrics=get_metrics())\n",
        "  return model"
      ],
      "execution_count": 0,
      "outputs": []
    },
    {
      "cell_type": "markdown",
      "metadata": {
        "id": "4UyH_mznKJwj",
        "colab_type": "text"
      },
      "source": [
        "#### **Create model**"
      ]
    },
    {
      "cell_type": "code",
      "metadata": {
        "id": "ms9HS5qK_vGR",
        "colab_type": "code",
        "colab": {}
      },
      "source": [
        "try:\n",
        "  del model\n",
        "except:\n",
        "  print('There is no model defined')\n",
        "# model = get_model()\n",
        "# model = get_vgg_model()\n",
        "# model = get_alex_model()\n",
        "# model = get_inception_v3(train_ds, train_count, None, 172)\n",
        "model = get_all_cnn_model()\n",
        "# model.summary()"
      ],
      "execution_count": 0,
      "outputs": []
    },
    {
      "cell_type": "markdown",
      "metadata": {
        "id": "HUiVTTjCLOtv",
        "colab_type": "text"
      },
      "source": [
        "# Training"
      ]
    },
    {
      "cell_type": "code",
      "metadata": {
        "colab_type": "code",
        "outputId": "f472b41e-a191-420b-fde7-ad88d592c5af",
        "id": "0Kv5snxyRlTh",
        "colab": {
          "base_uri": "https://localhost:8080/",
          "height": 1000
        }
      },
      "source": [
        "callbacks = get_callbacks(save_best_models=False, early_stopping=False)\n",
        "callack_history = TrainingHistoryCallback(['loss', 'categorical_accuracy', 'f1_score'])\n",
        "callbacks.append(callack_history)\n",
        "\n",
        "history = model.fit(train_ds, steps_per_epoch=train_count // BATCH_SIZE, \n",
        "          validation_data=val_ds, validation_steps=val_count // BATCH_SIZE,\n",
        "          # class_weight=weights,\n",
        "          epochs=80,\n",
        "          callbacks=callbacks\n",
        "          )"
      ],
      "execution_count": 155,
      "outputs": [
        {
          "output_type": "stream",
          "text": [
            "WARNING:tensorflow:`epsilon` argument is deprecated and will be removed, use `min_delta` instead.\n",
            "Epoch 1/80\n",
            "937/937 [==============================] - 229s 244ms/step - loss: 1.9934 - categorical_accuracy: 0.2457 - f1_score: 0.2440 - recall_multi: 0.8206 - top_2_accuracy: 0.4595 - val_loss: 1.0838 - val_categorical_accuracy: 0.7343 - val_f1_score: 0.1694 - val_recall_multi: 0.0000e+00 - val_top_2_accuracy: 0.7583 - lr: 0.0010\n",
            "Epoch 2/80\n",
            "937/937 [==============================] - 231s 246ms/step - loss: 1.6045 - categorical_accuracy: 0.3101 - f1_score: 0.2980 - recall_multi: 0.8408 - top_2_accuracy: 0.5248 - val_loss: 1.0321 - val_categorical_accuracy: 0.7343 - val_f1_score: 0.1694 - val_recall_multi: 5.3763e-04 - val_top_2_accuracy: 0.7594 - lr: 0.0010\n",
            "Epoch 3/80\n",
            "937/937 [==============================] - 231s 246ms/step - loss: 1.4618 - categorical_accuracy: 0.3490 - f1_score: 0.3294 - recall_multi: 0.8593 - top_2_accuracy: 0.5564 - val_loss: 1.0773 - val_categorical_accuracy: 0.7339 - val_f1_score: 0.1693 - val_recall_multi: 5.3763e-04 - val_top_2_accuracy: 0.7617 - lr: 0.0010\n",
            "Epoch 4/80\n",
            "937/937 [==============================] - 229s 245ms/step - loss: 1.3744 - categorical_accuracy: 0.3730 - f1_score: 0.3526 - recall_multi: 0.8846 - top_2_accuracy: 0.5797 - val_loss: 1.1890 - val_categorical_accuracy: 0.7252 - val_f1_score: 0.1730 - val_recall_multi: 0.0097 - val_top_2_accuracy: 0.7554 - lr: 0.0010\n",
            "Epoch 5/80\n",
            "937/937 [==============================] - ETA: 0s - loss: 1.3433 - categorical_accuracy: 0.3753 - f1_score: 0.3562 - recall_multi: 0.8964 - top_2_accuracy: 0.5788\n",
            "Epoch 00005: ReduceLROnPlateau reducing learning rate to 0.000800000037997961.\n",
            "937/937 [==============================] - 229s 244ms/step - loss: 1.3433 - categorical_accuracy: 0.3753 - f1_score: 0.3562 - recall_multi: 0.8964 - top_2_accuracy: 0.5788 - val_loss: 1.2718 - val_categorical_accuracy: 0.7337 - val_f1_score: 0.1693 - val_recall_multi: 0.0011 - val_top_2_accuracy: 0.7858 - lr: 0.0010\n",
            "Epoch 6/80\n",
            "937/937 [==============================] - 230s 246ms/step - loss: 1.3195 - categorical_accuracy: 0.3817 - f1_score: 0.3639 - recall_multi: 0.9043 - top_2_accuracy: 0.5841 - val_loss: 1.6594 - val_categorical_accuracy: 0.5568 - val_f1_score: 0.1758 - val_recall_multi: 0.1933 - val_top_2_accuracy: 0.6176 - lr: 8.0000e-04\n",
            "Epoch 7/80\n",
            "937/937 [==============================] - 236s 252ms/step - loss: 1.3044 - categorical_accuracy: 0.3881 - f1_score: 0.3713 - recall_multi: 0.9116 - top_2_accuracy: 0.5876 - val_loss: 1.4197 - val_categorical_accuracy: 0.7342 - val_f1_score: 0.1694 - val_recall_multi: 5.3792e-04 - val_top_2_accuracy: 0.7900 - lr: 8.0000e-04\n",
            "Epoch 8/80\n",
            "937/937 [==============================] - 225s 240ms/step - loss: 1.2926 - categorical_accuracy: 0.3886 - f1_score: 0.3719 - recall_multi: 0.9131 - top_2_accuracy: 0.5925 - val_loss: 1.2997 - val_categorical_accuracy: 0.7342 - val_f1_score: 0.1693 - val_recall_multi: 0.0000e+00 - val_top_2_accuracy: 0.8039 - lr: 8.0000e-04\n",
            "Epoch 9/80\n",
            "937/937 [==============================] - 229s 244ms/step - loss: 1.2814 - categorical_accuracy: 0.3883 - f1_score: 0.3723 - recall_multi: 0.9192 - top_2_accuracy: 0.5941 - val_loss: 4.4633 - val_categorical_accuracy: 0.1899 - val_f1_score: 0.1028 - val_recall_multi: 0.7652 - val_top_2_accuracy: 0.2812 - lr: 8.0000e-04\n",
            "Epoch 10/80\n",
            "937/937 [==============================] - 210s 224ms/step - loss: 1.2716 - categorical_accuracy: 0.3938 - f1_score: 0.3781 - recall_multi: 0.9222 - top_2_accuracy: 0.5999 - val_loss: 1.4354 - val_categorical_accuracy: 0.7292 - val_f1_score: 0.1688 - val_recall_multi: 0.0032 - val_top_2_accuracy: 0.7914 - lr: 8.0000e-04\n",
            "Epoch 11/80\n",
            "937/937 [==============================] - 231s 247ms/step - loss: 1.2671 - categorical_accuracy: 0.3947 - f1_score: 0.3795 - recall_multi: 0.9251 - top_2_accuracy: 0.6036 - val_loss: 1.4699 - val_categorical_accuracy: 0.7100 - val_f1_score: 0.1718 - val_recall_multi: 0.0275 - val_top_2_accuracy: 0.7718 - lr: 8.0000e-04\n",
            "Epoch 12/80\n",
            "937/937 [==============================] - ETA: 0s - loss: 1.2609 - categorical_accuracy: 0.3973 - f1_score: 0.3822 - recall_multi: 0.9294 - top_2_accuracy: 0.6022\n",
            "Epoch 00012: ReduceLROnPlateau reducing learning rate to 0.0006400000303983689.\n",
            "937/937 [==============================] - 229s 244ms/step - loss: 1.2609 - categorical_accuracy: 0.3973 - f1_score: 0.3822 - recall_multi: 0.9294 - top_2_accuracy: 0.6022 - val_loss: 1.4263 - val_categorical_accuracy: 0.7336 - val_f1_score: 0.1693 - val_recall_multi: 0.0011 - val_top_2_accuracy: 0.7811 - lr: 8.0000e-04\n",
            "Epoch 13/80\n",
            "937/937 [==============================] - 230s 246ms/step - loss: 1.2535 - categorical_accuracy: 0.4010 - f1_score: 0.3867 - recall_multi: 0.9324 - top_2_accuracy: 0.6056 - val_loss: 1.5852 - val_categorical_accuracy: 0.6436 - val_f1_score: 0.1750 - val_recall_multi: 0.1065 - val_top_2_accuracy: 0.7245 - lr: 6.4000e-04\n",
            "Epoch 14/80\n",
            "937/937 [==============================] - 209s 224ms/step - loss: 1.2454 - categorical_accuracy: 0.4011 - f1_score: 0.3869 - recall_multi: 0.9343 - top_2_accuracy: 0.6091 - val_loss: 1.4701 - val_categorical_accuracy: 0.7296 - val_f1_score: 0.1688 - val_recall_multi: 0.0032 - val_top_2_accuracy: 0.7948 - lr: 6.4000e-04\n",
            "Epoch 15/80\n",
            "937/937 [==============================] - 230s 246ms/step - loss: 1.2462 - categorical_accuracy: 0.4062 - f1_score: 0.3915 - recall_multi: 0.9360 - top_2_accuracy: 0.6079 - val_loss: 1.5026 - val_categorical_accuracy: 0.7342 - val_f1_score: 0.1694 - val_recall_multi: 0.0011 - val_top_2_accuracy: 0.8021 - lr: 6.4000e-04\n",
            "Epoch 16/80\n",
            "937/937 [==============================] - 230s 246ms/step - loss: 1.2404 - categorical_accuracy: 0.4085 - f1_score: 0.3939 - recall_multi: 0.9360 - top_2_accuracy: 0.6140 - val_loss: 1.5523 - val_categorical_accuracy: 0.7339 - val_f1_score: 0.1693 - val_recall_multi: 0.0000e+00 - val_top_2_accuracy: 0.8037 - lr: 6.4000e-04\n",
            "Epoch 17/80\n",
            "937/937 [==============================] - 230s 245ms/step - loss: 1.2307 - categorical_accuracy: 0.4124 - f1_score: 0.3983 - recall_multi: 0.9404 - top_2_accuracy: 0.6173 - val_loss: 1.5584 - val_categorical_accuracy: 0.7333 - val_f1_score: 0.1693 - val_recall_multi: 0.0011 - val_top_2_accuracy: 0.7934 - lr: 6.4000e-04\n",
            "Epoch 18/80\n",
            "937/937 [==============================] - 210s 224ms/step - loss: 1.2337 - categorical_accuracy: 0.4102 - f1_score: 0.3962 - recall_multi: 0.9389 - top_2_accuracy: 0.6167 - val_loss: 1.5954 - val_categorical_accuracy: 0.7270 - val_f1_score: 0.1745 - val_recall_multi: 0.0065 - val_top_2_accuracy: 0.7931 - lr: 6.4000e-04\n",
            "Epoch 19/80\n",
            "937/937 [==============================] - ETA: 0s - loss: 1.2268 - categorical_accuracy: 0.4102 - f1_score: 0.3956 - recall_multi: 0.9419 - top_2_accuracy: 0.6175\n",
            "Epoch 00019: ReduceLROnPlateau reducing learning rate to 0.0005120000336319208.\n",
            "937/937 [==============================] - 230s 246ms/step - loss: 1.2268 - categorical_accuracy: 0.4102 - f1_score: 0.3956 - recall_multi: 0.9419 - top_2_accuracy: 0.6175 - val_loss: 1.5626 - val_categorical_accuracy: 0.7206 - val_f1_score: 0.1785 - val_recall_multi: 0.0215 - val_top_2_accuracy: 0.8044 - lr: 6.4000e-04\n",
            "Epoch 20/80\n",
            "937/937 [==============================] - 230s 245ms/step - loss: 1.2279 - categorical_accuracy: 0.4142 - f1_score: 0.3998 - recall_multi: 0.9408 - top_2_accuracy: 0.6151 - val_loss: 2.5661 - val_categorical_accuracy: 0.3853 - val_f1_score: 0.1317 - val_recall_multi: 0.4196 - val_top_2_accuracy: 0.4542 - lr: 5.1200e-04\n",
            "Epoch 21/80\n",
            "937/937 [==============================] - 229s 245ms/step - loss: 1.2184 - categorical_accuracy: 0.4175 - f1_score: 0.4027 - recall_multi: 0.9439 - top_2_accuracy: 0.6259 - val_loss: 1.6720 - val_categorical_accuracy: 0.7260 - val_f1_score: 0.1760 - val_recall_multi: 0.0081 - val_top_2_accuracy: 0.8032 - lr: 5.1200e-04\n",
            "Epoch 22/80\n",
            "937/937 [==============================] - 211s 225ms/step - loss: 1.2224 - categorical_accuracy: 0.4200 - f1_score: 0.4056 - recall_multi: 0.9431 - top_2_accuracy: 0.6252 - val_loss: 1.5889 - val_categorical_accuracy: 0.7165 - val_f1_score: 0.1753 - val_recall_multi: 0.0204 - val_top_2_accuracy: 0.7948 - lr: 5.1200e-04\n",
            "Epoch 23/80\n",
            "937/937 [==============================] - 231s 247ms/step - loss: 1.2164 - categorical_accuracy: 0.4217 - f1_score: 0.4070 - recall_multi: 0.9455 - top_2_accuracy: 0.6328 - val_loss: 1.3081 - val_categorical_accuracy: 0.6952 - val_f1_score: 0.1815 - val_recall_multi: 0.0657 - val_top_2_accuracy: 0.7333 - lr: 5.1200e-04\n",
            "Epoch 24/80\n",
            "937/937 [==============================] - 230s 246ms/step - loss: 1.2194 - categorical_accuracy: 0.4224 - f1_score: 0.4084 - recall_multi: 0.9456 - top_2_accuracy: 0.6274 - val_loss: 1.5665 - val_categorical_accuracy: 0.6554 - val_f1_score: 0.1789 - val_recall_multi: 0.1227 - val_top_2_accuracy: 0.7058 - lr: 5.1200e-04\n",
            "Epoch 25/80\n",
            "937/937 [==============================] - 229s 244ms/step - loss: 1.2159 - categorical_accuracy: 0.4206 - f1_score: 0.4055 - recall_multi: 0.9464 - top_2_accuracy: 0.6261 - val_loss: 1.5987 - val_categorical_accuracy: 0.7300 - val_f1_score: 0.1747 - val_recall_multi: 0.0054 - val_top_2_accuracy: 0.8102 - lr: 5.1200e-04\n",
            "Epoch 26/80\n",
            "937/937 [==============================] - ETA: 0s - loss: 1.2102 - categorical_accuracy: 0.4273 - f1_score: 0.4130 - recall_multi: 0.9464 - top_2_accuracy: 0.6335\n",
            "Epoch 00026: ReduceLROnPlateau reducing learning rate to 0.00040960004553198815.\n",
            "937/937 [==============================] - 210s 224ms/step - loss: 1.2102 - categorical_accuracy: 0.4273 - f1_score: 0.4130 - recall_multi: 0.9464 - top_2_accuracy: 0.6335 - val_loss: 2.0500 - val_categorical_accuracy: 0.4993 - val_f1_score: 0.1506 - val_recall_multi: 0.2656 - val_top_2_accuracy: 0.5601 - lr: 5.1200e-04\n",
            "Epoch 27/80\n",
            "937/937 [==============================] - 231s 247ms/step - loss: 1.2078 - categorical_accuracy: 0.4248 - f1_score: 0.4104 - recall_multi: 0.9483 - top_2_accuracy: 0.6309 - val_loss: 1.8907 - val_categorical_accuracy: 0.7306 - val_f1_score: 0.1760 - val_recall_multi: 0.0038 - val_top_2_accuracy: 0.8024 - lr: 4.0960e-04\n",
            "Epoch 28/80\n",
            "937/937 [==============================] - 230s 245ms/step - loss: 1.2043 - categorical_accuracy: 0.4326 - f1_score: 0.4179 - recall_multi: 0.9480 - top_2_accuracy: 0.6352 - val_loss: 1.5811 - val_categorical_accuracy: 0.6625 - val_f1_score: 0.1770 - val_recall_multi: 0.0958 - val_top_2_accuracy: 0.7400 - lr: 4.0960e-04\n",
            "Epoch 29/80\n",
            "937/937 [==============================] - 228s 243ms/step - loss: 1.2021 - categorical_accuracy: 0.4261 - f1_score: 0.4126 - recall_multi: 0.9504 - top_2_accuracy: 0.6357 - val_loss: 1.6789 - val_categorical_accuracy: 0.6146 - val_f1_score: 0.1713 - val_recall_multi: 0.1625 - val_top_2_accuracy: 0.6876 - lr: 4.0960e-04\n",
            "Epoch 30/80\n",
            "937/937 [==============================] - 211s 225ms/step - loss: 1.2000 - categorical_accuracy: 0.4318 - f1_score: 0.4174 - recall_multi: 0.9498 - top_2_accuracy: 0.6351 - val_loss: 1.7022 - val_categorical_accuracy: 0.7230 - val_f1_score: 0.1787 - val_recall_multi: 0.0134 - val_top_2_accuracy: 0.7910 - lr: 4.0960e-04\n",
            "Epoch 31/80\n",
            "937/937 [==============================] - 230s 245ms/step - loss: 1.1989 - categorical_accuracy: 0.4348 - f1_score: 0.4194 - recall_multi: 0.9496 - top_2_accuracy: 0.6407 - val_loss: 1.5267 - val_categorical_accuracy: 0.7223 - val_f1_score: 0.1781 - val_recall_multi: 0.0172 - val_top_2_accuracy: 0.7908 - lr: 4.0960e-04\n",
            "Epoch 32/80\n",
            "937/937 [==============================] - 228s 244ms/step - loss: 1.2003 - categorical_accuracy: 0.4308 - f1_score: 0.4163 - recall_multi: 0.9486 - top_2_accuracy: 0.6435 - val_loss: 1.6209 - val_categorical_accuracy: 0.7246 - val_f1_score: 0.1807 - val_recall_multi: 0.0124 - val_top_2_accuracy: 0.7904 - lr: 4.0960e-04\n",
            "Epoch 33/80\n",
            "937/937 [==============================] - ETA: 0s - loss: 1.1970 - categorical_accuracy: 0.4325 - f1_score: 0.4172 - recall_multi: 0.9514 - top_2_accuracy: 0.6419\n",
            "Epoch 00033: ReduceLROnPlateau reducing learning rate to 0.00032768002711236477.\n",
            "937/937 [==============================] - 229s 244ms/step - loss: 1.1970 - categorical_accuracy: 0.4325 - f1_score: 0.4172 - recall_multi: 0.9514 - top_2_accuracy: 0.6419 - val_loss: 1.6358 - val_categorical_accuracy: 0.6848 - val_f1_score: 0.1775 - val_recall_multi: 0.0609 - val_top_2_accuracy: 0.7480 - lr: 4.0960e-04\n",
            "Epoch 34/80\n",
            "937/937 [==============================] - 210s 224ms/step - loss: 1.1924 - categorical_accuracy: 0.4344 - f1_score: 0.4190 - recall_multi: 0.9512 - top_2_accuracy: 0.6465 - val_loss: 1.6838 - val_categorical_accuracy: 0.7222 - val_f1_score: 0.1752 - val_recall_multi: 0.0161 - val_top_2_accuracy: 0.7904 - lr: 3.2768e-04\n",
            "Epoch 35/80\n",
            "937/937 [==============================] - 230s 246ms/step - loss: 1.1949 - categorical_accuracy: 0.4354 - f1_score: 0.4203 - recall_multi: 0.9494 - top_2_accuracy: 0.6433 - val_loss: 1.6475 - val_categorical_accuracy: 0.6871 - val_f1_score: 0.1769 - val_recall_multi: 0.0597 - val_top_2_accuracy: 0.7499 - lr: 3.2768e-04\n",
            "Epoch 36/80\n",
            "937/937 [==============================] - 233s 249ms/step - loss: 1.1909 - categorical_accuracy: 0.4361 - f1_score: 0.4213 - recall_multi: 0.9519 - top_2_accuracy: 0.6446 - val_loss: 1.7417 - val_categorical_accuracy: 0.7223 - val_f1_score: 0.1731 - val_recall_multi: 0.0113 - val_top_2_accuracy: 0.7938 - lr: 3.2768e-04\n",
            "Epoch 37/80\n",
            "937/937 [==============================] - 228s 243ms/step - loss: 1.1935 - categorical_accuracy: 0.4397 - f1_score: 0.4245 - recall_multi: 0.9511 - top_2_accuracy: 0.6484 - val_loss: 1.4648 - val_categorical_accuracy: 0.6144 - val_f1_score: 0.1809 - val_recall_multi: 0.2137 - val_top_2_accuracy: 0.6767 - lr: 3.2768e-04\n",
            "Epoch 38/80\n",
            "937/937 [==============================] - 209s 223ms/step - loss: 1.1910 - categorical_accuracy: 0.4394 - f1_score: 0.4244 - recall_multi: 0.9534 - top_2_accuracy: 0.6486 - val_loss: 1.5511 - val_categorical_accuracy: 0.7138 - val_f1_score: 0.1831 - val_recall_multi: 0.0377 - val_top_2_accuracy: 0.7865 - lr: 3.2768e-04\n",
            "Epoch 39/80\n",
            "937/937 [==============================] - 230s 245ms/step - loss: 1.1903 - categorical_accuracy: 0.4392 - f1_score: 0.4232 - recall_multi: 0.9515 - top_2_accuracy: 0.6480 - val_loss: 1.6048 - val_categorical_accuracy: 0.6821 - val_f1_score: 0.1788 - val_recall_multi: 0.0699 - val_top_2_accuracy: 0.7473 - lr: 3.2768e-04\n",
            "Epoch 40/80\n",
            "937/937 [==============================] - ETA: 0s - loss: 1.1882 - categorical_accuracy: 0.4431 - f1_score: 0.4275 - recall_multi: 0.9532 - top_2_accuracy: 0.6527\n",
            "Epoch 00040: ReduceLROnPlateau reducing learning rate to 0.0002621440216898918.\n",
            "937/937 [==============================] - 229s 244ms/step - loss: 1.1882 - categorical_accuracy: 0.4431 - f1_score: 0.4275 - recall_multi: 0.9532 - top_2_accuracy: 0.6527 - val_loss: 1.5755 - val_categorical_accuracy: 0.6371 - val_f1_score: 0.1761 - val_recall_multi: 0.1359 - val_top_2_accuracy: 0.7160 - lr: 3.2768e-04\n",
            "Epoch 41/80\n",
            "937/937 [==============================] - 231s 246ms/step - loss: 1.1853 - categorical_accuracy: 0.4452 - f1_score: 0.4292 - recall_multi: 0.9525 - top_2_accuracy: 0.6536 - val_loss: 1.5332 - val_categorical_accuracy: 0.6912 - val_f1_score: 0.1822 - val_recall_multi: 0.0651 - val_top_2_accuracy: 0.7698 - lr: 2.6214e-04\n",
            "Epoch 42/80\n",
            "937/937 [==============================] - 209s 223ms/step - loss: 1.1842 - categorical_accuracy: 0.4403 - f1_score: 0.4251 - recall_multi: 0.9535 - top_2_accuracy: 0.6522 - val_loss: 1.6020 - val_categorical_accuracy: 0.7022 - val_f1_score: 0.1810 - val_recall_multi: 0.0452 - val_top_2_accuracy: 0.7735 - lr: 2.6214e-04\n",
            "Epoch 43/80\n",
            "937/937 [==============================] - 230s 246ms/step - loss: 1.1823 - categorical_accuracy: 0.4425 - f1_score: 0.4264 - recall_multi: 0.9532 - top_2_accuracy: 0.6523 - val_loss: 1.5063 - val_categorical_accuracy: 0.7197 - val_f1_score: 0.1870 - val_recall_multi: 0.0263 - val_top_2_accuracy: 0.7910 - lr: 2.6214e-04\n",
            "Epoch 44/80\n",
            "937/937 [==============================] - 229s 244ms/step - loss: 1.1852 - categorical_accuracy: 0.4436 - f1_score: 0.4277 - recall_multi: 0.9529 - top_2_accuracy: 0.6522 - val_loss: 1.8284 - val_categorical_accuracy: 0.7262 - val_f1_score: 0.1805 - val_recall_multi: 0.0113 - val_top_2_accuracy: 0.7977 - lr: 2.6214e-04\n",
            "Epoch 45/80\n",
            "937/937 [==============================] - 230s 245ms/step - loss: 1.1822 - categorical_accuracy: 0.4398 - f1_score: 0.4244 - recall_multi: 0.9552 - top_2_accuracy: 0.6508 - val_loss: 1.6715 - val_categorical_accuracy: 0.7223 - val_f1_score: 0.1830 - val_recall_multi: 0.0194 - val_top_2_accuracy: 0.7974 - lr: 2.6214e-04\n",
            "Epoch 46/80\n",
            "937/937 [==============================] - 211s 225ms/step - loss: 1.1812 - categorical_accuracy: 0.4429 - f1_score: 0.4281 - recall_multi: 0.9544 - top_2_accuracy: 0.6540 - val_loss: 1.7602 - val_categorical_accuracy: 0.7249 - val_f1_score: 0.1762 - val_recall_multi: 0.0097 - val_top_2_accuracy: 0.7928 - lr: 2.6214e-04\n",
            "Epoch 47/80\n",
            "937/937 [==============================] - ETA: 0s - loss: 1.1808 - categorical_accuracy: 0.4456 - f1_score: 0.4295 - recall_multi: 0.9534 - top_2_accuracy: 0.6570\n",
            "Epoch 00047: ReduceLROnPlateau reducing learning rate to 0.00020971521735191345.\n",
            "937/937 [==============================] - 231s 246ms/step - loss: 1.1808 - categorical_accuracy: 0.4456 - f1_score: 0.4295 - recall_multi: 0.9534 - top_2_accuracy: 0.6570 - val_loss: 1.5862 - val_categorical_accuracy: 0.6801 - val_f1_score: 0.1773 - val_recall_multi: 0.0715 - val_top_2_accuracy: 0.7447 - lr: 2.6214e-04\n",
            "Epoch 48/80\n",
            "937/937 [==============================] - 229s 244ms/step - loss: 1.1789 - categorical_accuracy: 0.4457 - f1_score: 0.4297 - recall_multi: 0.9545 - top_2_accuracy: 0.6591 - val_loss: 1.6497 - val_categorical_accuracy: 0.6794 - val_f1_score: 0.1755 - val_recall_multi: 0.0640 - val_top_2_accuracy: 0.7469 - lr: 2.0972e-04\n",
            "Epoch 49/80\n",
            "937/937 [==============================] - 231s 247ms/step - loss: 1.1759 - categorical_accuracy: 0.4501 - f1_score: 0.4335 - recall_multi: 0.9540 - top_2_accuracy: 0.6649 - val_loss: 1.6634 - val_categorical_accuracy: 0.6029 - val_f1_score: 0.1728 - val_recall_multi: 0.1722 - val_top_2_accuracy: 0.6748 - lr: 2.0972e-04\n",
            "Epoch 50/80\n",
            "937/937 [==============================] - 211s 225ms/step - loss: 1.1692 - categorical_accuracy: 0.4518 - f1_score: 0.4359 - recall_multi: 0.9562 - top_2_accuracy: 0.6660 - val_loss: 1.9268 - val_categorical_accuracy: 0.7093 - val_f1_score: 0.1738 - val_recall_multi: 0.0183 - val_top_2_accuracy: 0.7801 - lr: 2.0972e-04\n",
            "Epoch 51/80\n",
            "937/937 [==============================] - 232s 247ms/step - loss: 1.1708 - categorical_accuracy: 0.4508 - f1_score: 0.4354 - recall_multi: 0.9546 - top_2_accuracy: 0.6634 - val_loss: 1.6654 - val_categorical_accuracy: 0.6592 - val_f1_score: 0.1765 - val_recall_multi: 0.0851 - val_top_2_accuracy: 0.7243 - lr: 2.0972e-04\n",
            "Epoch 52/80\n",
            "937/937 [==============================] - 232s 248ms/step - loss: 1.1729 - categorical_accuracy: 0.4476 - f1_score: 0.4322 - recall_multi: 0.9564 - top_2_accuracy: 0.6587 - val_loss: 1.7007 - val_categorical_accuracy: 0.7156 - val_f1_score: 0.1838 - val_recall_multi: 0.0242 - val_top_2_accuracy: 0.7804 - lr: 2.0972e-04\n",
            "Epoch 53/80\n",
            "937/937 [==============================] - 230s 246ms/step - loss: 1.1762 - categorical_accuracy: 0.4514 - f1_score: 0.4357 - recall_multi: 0.9552 - top_2_accuracy: 0.6617 - val_loss: 1.6664 - val_categorical_accuracy: 0.6146 - val_f1_score: 0.1734 - val_recall_multi: 0.1545 - val_top_2_accuracy: 0.6714 - lr: 2.0972e-04\n",
            "Epoch 54/80\n",
            "937/937 [==============================] - ETA: 0s - loss: 1.1753 - categorical_accuracy: 0.4488 - f1_score: 0.4326 - recall_multi: 0.9545 - top_2_accuracy: 0.6571\n",
            "Epoch 00054: ReduceLROnPlateau reducing learning rate to 0.00016777217388153076.\n",
            "937/937 [==============================] - 231s 246ms/step - loss: 1.1753 - categorical_accuracy: 0.4488 - f1_score: 0.4326 - recall_multi: 0.9545 - top_2_accuracy: 0.6571 - val_loss: 1.6536 - val_categorical_accuracy: 0.6791 - val_f1_score: 0.1795 - val_recall_multi: 0.0646 - val_top_2_accuracy: 0.7511 - lr: 2.0972e-04\n",
            "Epoch 55/80\n",
            "937/937 [==============================] - 210s 224ms/step - loss: 1.1703 - categorical_accuracy: 0.4485 - f1_score: 0.4324 - recall_multi: 0.9555 - top_2_accuracy: 0.6643 - val_loss: 1.6401 - val_categorical_accuracy: 0.6935 - val_f1_score: 0.1782 - val_recall_multi: 0.0462 - val_top_2_accuracy: 0.7698 - lr: 1.6777e-04\n",
            "Epoch 56/80\n",
            "937/937 [==============================] - 231s 247ms/step - loss: 1.1715 - categorical_accuracy: 0.4514 - f1_score: 0.4341 - recall_multi: 0.9557 - top_2_accuracy: 0.6654 - val_loss: 1.6971 - val_categorical_accuracy: 0.7179 - val_f1_score: 0.1833 - val_recall_multi: 0.0220 - val_top_2_accuracy: 0.7908 - lr: 1.6777e-04\n",
            "Epoch 57/80\n",
            "937/937 [==============================] - 231s 247ms/step - loss: 1.1675 - categorical_accuracy: 0.4547 - f1_score: 0.4392 - recall_multi: 0.9569 - top_2_accuracy: 0.6686 - val_loss: 1.5935 - val_categorical_accuracy: 0.6687 - val_f1_score: 0.1780 - val_recall_multi: 0.0796 - val_top_2_accuracy: 0.7342 - lr: 1.6777e-04\n",
            "Epoch 58/80\n",
            "937/937 [==============================] - 231s 247ms/step - loss: 1.1699 - categorical_accuracy: 0.4552 - f1_score: 0.4384 - recall_multi: 0.9552 - top_2_accuracy: 0.6650 - val_loss: 1.7115 - val_categorical_accuracy: 0.6956 - val_f1_score: 0.1802 - val_recall_multi: 0.0441 - val_top_2_accuracy: 0.7634 - lr: 1.6777e-04\n",
            "Epoch 59/80\n",
            "937/937 [==============================] - 232s 248ms/step - loss: 1.1714 - categorical_accuracy: 0.4503 - f1_score: 0.4346 - recall_multi: 0.9566 - top_2_accuracy: 0.6612 - val_loss: 1.6993 - val_categorical_accuracy: 0.7006 - val_f1_score: 0.1851 - val_recall_multi: 0.0457 - val_top_2_accuracy: 0.7718 - lr: 1.6777e-04\n",
            "Epoch 60/80\n",
            "937/937 [==============================] - 211s 225ms/step - loss: 1.1687 - categorical_accuracy: 0.4560 - f1_score: 0.4404 - recall_multi: 0.9561 - top_2_accuracy: 0.6695 - val_loss: 1.8019 - val_categorical_accuracy: 0.6921 - val_f1_score: 0.1796 - val_recall_multi: 0.0414 - val_top_2_accuracy: 0.7626 - lr: 1.6777e-04\n",
            "Epoch 61/80\n",
            "937/937 [==============================] - ETA: 0s - loss: 1.1684 - categorical_accuracy: 0.4538 - f1_score: 0.4368 - recall_multi: 0.9561 - top_2_accuracy: 0.6649\n",
            "Epoch 00061: ReduceLROnPlateau reducing learning rate to 0.00013421773910522462.\n",
            "937/937 [==============================] - 231s 246ms/step - loss: 1.1684 - categorical_accuracy: 0.4538 - f1_score: 0.4368 - recall_multi: 0.9561 - top_2_accuracy: 0.6649 - val_loss: 1.6780 - val_categorical_accuracy: 0.5950 - val_f1_score: 0.1701 - val_recall_multi: 0.1783 - val_top_2_accuracy: 0.6610 - lr: 1.6777e-04\n",
            "Epoch 62/80\n",
            "937/937 [==============================] - 230s 246ms/step - loss: 1.1707 - categorical_accuracy: 0.4580 - f1_score: 0.4415 - recall_multi: 0.9548 - top_2_accuracy: 0.6636 - val_loss: 1.6270 - val_categorical_accuracy: 0.7073 - val_f1_score: 0.1864 - val_recall_multi: 0.0323 - val_top_2_accuracy: 0.7795 - lr: 1.3422e-04\n",
            "Epoch 63/80\n",
            "937/937 [==============================] - 231s 247ms/step - loss: 1.1605 - categorical_accuracy: 0.4567 - f1_score: 0.4391 - recall_multi: 0.9585 - top_2_accuracy: 0.6705 - val_loss: 1.6045 - val_categorical_accuracy: 0.6973 - val_f1_score: 0.1846 - val_recall_multi: 0.0506 - val_top_2_accuracy: 0.7694 - lr: 1.3422e-04\n",
            "Epoch 64/80\n",
            "937/937 [==============================] - 211s 225ms/step - loss: 1.1641 - categorical_accuracy: 0.4574 - f1_score: 0.4403 - recall_multi: 0.9558 - top_2_accuracy: 0.6731 - val_loss: 1.6457 - val_categorical_accuracy: 0.5860 - val_f1_score: 0.1676 - val_recall_multi: 0.2014 - val_top_2_accuracy: 0.6545 - lr: 1.3422e-04\n",
            "Epoch 65/80\n",
            "937/937 [==============================] - 230s 246ms/step - loss: 1.1659 - categorical_accuracy: 0.4563 - f1_score: 0.4404 - recall_multi: 0.9581 - top_2_accuracy: 0.6682 - val_loss: 1.5359 - val_categorical_accuracy: 0.6856 - val_f1_score: 0.1860 - val_recall_multi: 0.0710 - val_top_2_accuracy: 0.7530 - lr: 1.3422e-04\n",
            "Epoch 66/80\n",
            "937/937 [==============================] - 231s 246ms/step - loss: 1.1667 - categorical_accuracy: 0.4538 - f1_score: 0.4366 - recall_multi: 0.9545 - top_2_accuracy: 0.6635 - val_loss: 1.9957 - val_categorical_accuracy: 0.7203 - val_f1_score: 0.1772 - val_recall_multi: 0.0129 - val_top_2_accuracy: 0.7915 - lr: 1.3422e-04\n",
            "Epoch 67/80\n",
            "937/937 [==============================] - 232s 248ms/step - loss: 1.1664 - categorical_accuracy: 0.4575 - f1_score: 0.4401 - recall_multi: 0.9566 - top_2_accuracy: 0.6666 - val_loss: 1.4686 - val_categorical_accuracy: 0.6641 - val_f1_score: 0.1806 - val_recall_multi: 0.1012 - val_top_2_accuracy: 0.7233 - lr: 1.3422e-04\n",
            "Epoch 68/80\n",
            "937/937 [==============================] - ETA: 0s - loss: 1.1624 - categorical_accuracy: 0.4585 - f1_score: 0.4406 - recall_multi: 0.9577 - top_2_accuracy: 0.6677\n",
            "Epoch 00068: ReduceLROnPlateau reducing learning rate to 0.00010737419361248613.\n",
            "937/937 [==============================] - 232s 247ms/step - loss: 1.1624 - categorical_accuracy: 0.4585 - f1_score: 0.4406 - recall_multi: 0.9577 - top_2_accuracy: 0.6677 - val_loss: 1.7186 - val_categorical_accuracy: 0.6246 - val_f1_score: 0.1669 - val_recall_multi: 0.1210 - val_top_2_accuracy: 0.6939 - lr: 1.3422e-04\n",
            "Epoch 69/80\n",
            "937/937 [==============================] - 213s 228ms/step - loss: 1.1623 - categorical_accuracy: 0.4545 - f1_score: 0.4384 - recall_multi: 0.9581 - top_2_accuracy: 0.6688 - val_loss: 1.6355 - val_categorical_accuracy: 0.6520 - val_f1_score: 0.1740 - val_recall_multi: 0.1032 - val_top_2_accuracy: 0.7267 - lr: 1.0737e-04\n",
            "Epoch 70/80\n",
            "937/937 [==============================] - 233s 249ms/step - loss: 1.1620 - categorical_accuracy: 0.4588 - f1_score: 0.4413 - recall_multi: 0.9579 - top_2_accuracy: 0.6698 - val_loss: 1.7186 - val_categorical_accuracy: 0.7103 - val_f1_score: 0.1850 - val_recall_multi: 0.0318 - val_top_2_accuracy: 0.7793 - lr: 1.0737e-04\n",
            "Epoch 71/80\n",
            "937/937 [==============================] - 231s 247ms/step - loss: 1.1639 - categorical_accuracy: 0.4571 - f1_score: 0.4397 - recall_multi: 0.9566 - top_2_accuracy: 0.6724 - val_loss: 1.6331 - val_categorical_accuracy: 0.6503 - val_f1_score: 0.1752 - val_recall_multi: 0.1089 - val_top_2_accuracy: 0.7259 - lr: 1.0737e-04\n",
            "Epoch 72/80\n",
            "937/937 [==============================] - 232s 248ms/step - loss: 1.1627 - categorical_accuracy: 0.4569 - f1_score: 0.4412 - recall_multi: 0.9570 - top_2_accuracy: 0.6669 - val_loss: 1.6643 - val_categorical_accuracy: 0.6568 - val_f1_score: 0.1725 - val_recall_multi: 0.0882 - val_top_2_accuracy: 0.7232 - lr: 1.0737e-04\n",
            "Epoch 73/80\n",
            "937/937 [==============================] - 231s 247ms/step - loss: 1.1601 - categorical_accuracy: 0.4569 - f1_score: 0.4393 - recall_multi: 0.9580 - top_2_accuracy: 0.6697 - val_loss: 1.7462 - val_categorical_accuracy: 0.7028 - val_f1_score: 0.1804 - val_recall_multi: 0.0366 - val_top_2_accuracy: 0.7717 - lr: 1.0737e-04\n",
            "Epoch 74/80\n",
            "937/937 [==============================] - 213s 227ms/step - loss: 1.1625 - categorical_accuracy: 0.4592 - f1_score: 0.4418 - recall_multi: 0.9592 - top_2_accuracy: 0.6665 - val_loss: 1.6393 - val_categorical_accuracy: 0.6551 - val_f1_score: 0.1750 - val_recall_multi: 0.0990 - val_top_2_accuracy: 0.7287 - lr: 1.0737e-04\n",
            "Epoch 75/80\n",
            "937/937 [==============================] - ETA: 0s - loss: 1.1617 - categorical_accuracy: 0.4554 - f1_score: 0.4381 - recall_multi: 0.9588 - top_2_accuracy: 0.6677\n",
            "Epoch 00075: ReduceLROnPlateau reducing learning rate to 8.589935605414213e-05.\n",
            "937/937 [==============================] - 231s 247ms/step - loss: 1.1617 - categorical_accuracy: 0.4554 - f1_score: 0.4381 - recall_multi: 0.9588 - top_2_accuracy: 0.6677 - val_loss: 1.5658 - val_categorical_accuracy: 0.6387 - val_f1_score: 0.1772 - val_recall_multi: 0.1342 - val_top_2_accuracy: 0.7123 - lr: 1.0737e-04\n",
            "Epoch 76/80\n",
            "937/937 [==============================] - 232s 247ms/step - loss: 1.1621 - categorical_accuracy: 0.4542 - f1_score: 0.4364 - recall_multi: 0.9582 - top_2_accuracy: 0.6683 - val_loss: 1.6836 - val_categorical_accuracy: 0.6849 - val_f1_score: 0.1777 - val_recall_multi: 0.0549 - val_top_2_accuracy: 0.7570 - lr: 8.5899e-05\n",
            "Epoch 77/80\n",
            "937/937 [==============================] - 230s 245ms/step - loss: 1.1579 - categorical_accuracy: 0.4615 - f1_score: 0.4450 - recall_multi: 0.9588 - top_2_accuracy: 0.6735 - val_loss: 1.5662 - val_categorical_accuracy: 0.6854 - val_f1_score: 0.1838 - val_recall_multi: 0.0667 - val_top_2_accuracy: 0.7591 - lr: 8.5899e-05\n",
            "Epoch 78/80\n",
            "937/937 [==============================] - 230s 245ms/step - loss: 1.1620 - categorical_accuracy: 0.4580 - f1_score: 0.4411 - recall_multi: 0.9587 - top_2_accuracy: 0.6688 - val_loss: 1.7754 - val_categorical_accuracy: 0.6346 - val_f1_score: 0.1682 - val_recall_multi: 0.1055 - val_top_2_accuracy: 0.7046 - lr: 8.5899e-05\n",
            "Epoch 79/80\n",
            "937/937 [==============================] - 208s 222ms/step - loss: 1.1634 - categorical_accuracy: 0.4579 - f1_score: 0.4405 - recall_multi: 0.9579 - top_2_accuracy: 0.6723 - val_loss: 1.7988 - val_categorical_accuracy: 0.7025 - val_f1_score: 0.1817 - val_recall_multi: 0.0323 - val_top_2_accuracy: 0.7757 - lr: 8.5899e-05\n",
            "Epoch 80/80\n",
            "937/937 [==============================] - 229s 244ms/step - loss: 1.1606 - categorical_accuracy: 0.4584 - f1_score: 0.4415 - recall_multi: 0.9571 - top_2_accuracy: 0.6713 - val_loss: 1.7276 - val_categorical_accuracy: 0.6457 - val_f1_score: 0.1710 - val_recall_multi: 0.0981 - val_top_2_accuracy: 0.7235 - lr: 8.5899e-05\n"
          ],
          "name": "stdout"
        }
      ]
    },
    {
      "cell_type": "markdown",
      "metadata": {
        "id": "l6xswgh2FM3Z",
        "colab_type": "text"
      },
      "source": [
        "Or load model from file"
      ]
    },
    {
      "cell_type": "code",
      "metadata": {
        "id": "FY6GnrGIFMkJ",
        "colab_type": "code",
        "outputId": "4caf57f2-0496-497b-fc0f-b485342c6d5b",
        "colab": {
          "base_uri": "https://localhost:8080/",
          "height": 34
        }
      },
      "source": [
        "loaded_model = tf.keras.models.load_model(\n",
        "    os.path.join(PROJECT_DIR, 'models', 'model.17-0.76.hdf5'),\n",
        "    {'top_2_accuracy' : top_2_accuracy}\n",
        ")"
      ],
      "execution_count": 0,
      "outputs": [
        {
          "output_type": "stream",
          "text": [
            "WARNING:tensorflow:Error in loading the saved optimizer state. As a result, your model is starting with a freshly initialized optimizer.\n"
          ],
          "name": "stdout"
        }
      ]
    },
    {
      "cell_type": "markdown",
      "metadata": {
        "id": "F0VqV8Mm21vD",
        "colab_type": "text"
      },
      "source": [
        "# Visualization\n",
        "#### Definitions"
      ]
    },
    {
      "cell_type": "code",
      "metadata": {
        "id": "3nztH8Tr3E1J",
        "colab_type": "code",
        "colab": {}
      },
      "source": [
        "def plot_filters(model, number_to_plot):\n",
        "  layer_outputs = [layer.output for layer in model.layers[-number_to_plot:]] # Extracts the outputs of the top 12 layers\n",
        "  activation_model = models.Model(inputs=model.input, outputs=layer_outputs) # Creates a model that will return these outputs, given the model input\n",
        "  activations = activation_model.predict(image_batch) # Returns a list of five Numpy arrays: one array per layer activation\n",
        "  # first_layer_activation = activations[1]\n",
        "  # plt.matshow(first_layer_activation[0, :, :, 4], cmap='viridis')\n",
        "\n",
        "  layer_names = []\n",
        "  for layer in model.layers[:8]:\n",
        "      layer_names.append(layer.name) # Names of the layers, so you can have them as part of your plot\n",
        "      \n",
        "  images_per_row = 16\n",
        "\n",
        "  for layer_name, layer_activation in zip(layer_names, activations): # Displays the feature maps\n",
        "      n_features = layer_activation.shape[-1] # Number of features in the feature map\n",
        "      size = layer_activation.shape[1] #The feature map has shape (1, size, size, n_features).\n",
        "      n_cols = n_features // images_per_row # Tiles the activation channels in this matrix\n",
        "      display_grid = np.zeros((size * n_cols, images_per_row * size))\n",
        "      for col in range(n_cols): # Tiles each filter into a big horizontal grid\n",
        "          for row in range(images_per_row):\n",
        "              channel_image = layer_activation[0,\n",
        "                                              :, :,\n",
        "                                              col * images_per_row + row]\n",
        "              channel_image -= channel_image.mean() # Post-processes the feature to make it visually palatable\n",
        "              channel_image /= channel_image.std()\n",
        "              channel_image *= 64\n",
        "              channel_image += 128\n",
        "              channel_image = np.clip(channel_image, 0, 255).astype('uint8')\n",
        "              display_grid[col * size : (col + 1) * size, # Displays the grid\n",
        "                          row * size : (row + 1) * size] = channel_image\n",
        "      scale = 1. / size\n",
        "      plt.figure(figsize=(scale * display_grid.shape[1],\n",
        "                          scale * display_grid.shape[0]))\n",
        "      plt.title(layer_name)\n",
        "      plt.grid(False)\n",
        "      plt.imshow(display_grid, aspect='auto', cmap='viridis')\n",
        "\n",
        "def plot_metric(metrics, metric_name):\n",
        "  plt.plot(metrics[metric_name])\n",
        "  plt.plot(metrics['val_' + metric_name])\n",
        "  plt.title(metric_name)\n",
        "  plt.ylabel(metric_name)\n",
        "  plt.xlabel('epoch')\n",
        "  plt.legend(['Training', 'Validation'], loc='upper left')\n",
        "  plt.show()\n",
        "\n",
        "def plot_f1(metrics):\n",
        "  fig, m_axs = plt.subplots(1, 2, figsize=(25,5))\n",
        "  \n",
        "  m_axs[0].plot(metrics['f1_score'])\n",
        "  m_axs[0].set_ylabel('f1_score')\n",
        "  m_axs[0].set_xlabel('epoch')\n",
        "  m_axs[0].set_title('Training')\n",
        "  m_axs[0].legend(CLASS_NAMES, loc='upper left')\n",
        "  \n",
        "  m_axs[1].plot(metrics['val_f1_score'])\n",
        "  m_axs[1].set_ylabel('val_f1_score')\n",
        "  m_axs[1].set_xlabel('epoch')\n",
        "  m_axs[1].set_title('Validation')\n",
        "  m_axs[1].legend(CLASS_NAMES, loc='upper left')"
      ],
      "execution_count": 0,
      "outputs": []
    },
    {
      "cell_type": "code",
      "metadata": {
        "id": "ZdItzrOiYdBb",
        "colab_type": "code",
        "colab": {
          "base_uri": "https://localhost:8080/",
          "height": 906
        },
        "outputId": "d847fc1d-8be3-486a-9f8f-0fb6dbfc9437"
      },
      "source": [
        "plot_metric(callack_history.metrics, 'loss')\n",
        "plot_metric(callack_history.metrics, 'categorical_accuracy')\n",
        "plot_f1(callack_history.metrics)"
      ],
      "execution_count": 157,
      "outputs": [
        {
          "output_type": "display_data",
          "data": {
            "image/png": "[encoded data removed]",
            "text/plain": [
              "<Figure size 432x288 with 1 Axes>"
            ]
          },
          "metadata": {
            "tags": [],
            "needs_background": "light"
          }
        },
        {
          "output_type": "display_data",
          "data": {
            "image/png": "[encoded data removed]",
            "text/plain": [
              "<Figure size 432x288 with 1 Axes>"
            ]
          },
          "metadata": {
            "tags": [],
            "needs_background": "light"
          }
        },
        {
          "output_type": "display_data",
          "data": {
            "image/png": "[encoded data removed]",
            "text/plain": [
              "<Figure size 1800x360 with 2 Axes>"
            ]
          },
          "metadata": {
            "tags": [],
            "needs_background": "light"
          }
        }
      ]
    },
    {
      "cell_type": "markdown",
      "metadata": {
        "id": "S-1xTd7xGdV5",
        "colab_type": "text"
      },
      "source": [
        "## Validation"
      ]
    },
    {
      "cell_type": "code",
      "metadata": {
        "id": "owurqv5p51iq",
        "colab_type": "code",
        "colab": {}
      },
      "source": [
        "image_batch, label_batch = next(iter(train_ds))\n",
        "show_batch(image_batch.numpy(), label_batch.numpy())"
      ],
      "execution_count": 0,
      "outputs": []
    },
    {
      "cell_type": "code",
      "metadata": {
        "colab_type": "code",
        "id": "kkbCJBrB_BOW",
        "outputId": "67c9e779-ea7b-4cf0-ae79-8ba19c600418",
        "colab": {
          "base_uri": "https://localhost:8080/",
          "height": 229
        }
      },
      "source": [
        "model_to_val = model\n",
        "\n",
        "image_batch, label_batch = next(iter(val_ds))\n",
        "model_to_val.evaluate(image_batch, label_batch, BATCH_SIZE)\n",
        "predicted_probabilities = model_to_val.predict(image_batch)\n",
        "print('Predicted probabilities:', predicted_probabilities)\n",
        "predicted_labels = np.argmax(predicted_probabilities,axis=1)\n",
        "print('Labels:', np.argmax(label_batch,axis=1))\n",
        "print('Predicted labels:', predicted_labels)\n",
        "show_batch(image_batch.numpy(), label_batch.numpy(),predicted_labels)"
      ],
      "execution_count": 0,
      "outputs": [
        {
          "output_type": "error",
          "ename": "NameError",
          "evalue": "ignored",
          "traceback": [
            "\u001b[0;31m---------------------------------------------------------------------------\u001b[0m",
            "\u001b[0;31mNameError\u001b[0m                                 Traceback (most recent call last)",
            "\u001b[0;32m<ipython-input-1-5012820f5cfe>\u001b[0m in \u001b[0;36m<module>\u001b[0;34m()\u001b[0m\n\u001b[0;32m----> 1\u001b[0;31m \u001b[0mmodel_to_val\u001b[0m \u001b[0;34m=\u001b[0m \u001b[0mmodel\u001b[0m\u001b[0;34m\u001b[0m\u001b[0;34m\u001b[0m\u001b[0m\n\u001b[0m\u001b[1;32m      2\u001b[0m \u001b[0;34m\u001b[0m\u001b[0m\n\u001b[1;32m      3\u001b[0m \u001b[0mimage_batch\u001b[0m\u001b[0;34m,\u001b[0m \u001b[0mlabel_batch\u001b[0m \u001b[0;34m=\u001b[0m \u001b[0mnext\u001b[0m\u001b[0;34m(\u001b[0m\u001b[0miter\u001b[0m\u001b[0;34m(\u001b[0m\u001b[0mval_ds\u001b[0m\u001b[0;34m)\u001b[0m\u001b[0;34m)\u001b[0m\u001b[0;34m\u001b[0m\u001b[0;34m\u001b[0m\u001b[0m\n\u001b[1;32m      4\u001b[0m \u001b[0mmodel_to_val\u001b[0m\u001b[0;34m.\u001b[0m\u001b[0mevaluate\u001b[0m\u001b[0;34m(\u001b[0m\u001b[0mimage_batch\u001b[0m\u001b[0;34m,\u001b[0m \u001b[0mlabel_batch\u001b[0m\u001b[0;34m,\u001b[0m \u001b[0mBATCH_SIZE\u001b[0m\u001b[0;34m)\u001b[0m\u001b[0;34m\u001b[0m\u001b[0;34m\u001b[0m\u001b[0m\n\u001b[1;32m      5\u001b[0m \u001b[0mpredicted_probabilities\u001b[0m \u001b[0;34m=\u001b[0m \u001b[0mmodel_to_val\u001b[0m\u001b[0;34m.\u001b[0m\u001b[0mpredict\u001b[0m\u001b[0;34m(\u001b[0m\u001b[0mimage_batch\u001b[0m\u001b[0;34m)\u001b[0m\u001b[0;34m\u001b[0m\u001b[0;34m\u001b[0m\u001b[0m\n",
            "\u001b[0;31mNameError\u001b[0m: name 'model' is not defined"
          ]
        }
      ]
    },
    {
      "cell_type": "markdown",
      "metadata": {
        "id": "jxJ_AQGSTrBV",
        "colab_type": "text"
      },
      "source": [
        "# Other"
      ]
    },
    {
      "cell_type": "markdown",
      "metadata": {
        "id": "oWGuIDPbbt88",
        "colab_type": "text"
      },
      "source": [
        "Correctness of loss [CS231](http://cs231n.github.io/neural-networks-3/#sanitycheck) <font color='green'>OK</font>\n",
        "\n",
        "Loss should be equal -ln(1/len(classes))"
      ]
    },
    {
      "cell_type": "code",
      "metadata": {
        "id": "LoeLkz8oW_uG",
        "colab_type": "code",
        "outputId": "d4fbd12e-77be-4e19-c250-5a3751f08f01",
        "colab": {
          "base_uri": "https://localhost:8080/",
          "height": 34
        }
      },
      "source": [
        "-np.log(1/len(CLASS_NAMES))"
      ],
      "execution_count": 0,
      "outputs": [
        {
          "output_type": "execute_result",
          "data": {
            "text/plain": [
              "1.6094379124341003"
            ]
          },
          "metadata": {
            "tags": []
          },
          "execution_count": 36
        }
      ]
    }
  ]
}