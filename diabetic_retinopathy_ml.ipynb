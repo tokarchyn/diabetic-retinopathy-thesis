{
  "nbformat": 4,
  "nbformat_minor": 0,
  "metadata": {
    "accelerator": "GPU",
    "colab": {
      "name": "diabetic-retinopathy-ml.ipynb",
      "provenance": [],
      "collapsed_sections": [
        "-M_6MMRrT4xH",
        "oWGuIDPbbt88"
      ],
      "machine_shape": "hm"
    },
    "kernelspec": {
      "name": "python3",
      "display_name": "Python 3"
    },
    "language_info": {
      "codemirror_mode": {
        "name": "ipython",
        "version": 3
      },
      "file_extension": ".py",
      "mimetype": "text/x-python",
      "name": "python",
      "nbconvert_exporter": "python",
      "pygments_lexer": "ipython3",
      "version": "3.5.3"
    }
  },
  "cells": [
    {
      "cell_type": "markdown",
      "metadata": {
        "id": "JN5znD6g_vFV",
        "colab_type": "text"
      },
      "source": [
        "<a href=\"https://colab.research.google.com/github/tokarchyn/diabetic-retinopathy-thesis/blob/master/diabetic-retinopathy-ml.ipynb\" target=\"_parent\">     \n",
        "<img src=\"https://colab.research.google.com/assets/colab-badge.svg\" alt=\"Open In Colab\"/>\n",
        "</a>"
      ]
    },
    {
      "cell_type": "markdown",
      "metadata": {
        "id": "AG-XAUTpUtth",
        "colab_type": "text"
      },
      "source": [
        "# Imports and basic setups"
      ]
    },
    {
      "cell_type": "code",
      "metadata": {
        "colab_type": "code",
        "id": "nQKx-pJN_BNx",
        "outputId": "de7fb0b7-0801-45a6-a72e-f2700f94f9df",
        "colab": {
          "base_uri": "https://localhost:8080/",
          "height": 171
        }
      },
      "source": [
        "import sys\n",
        "IN_COLAB = 'google.colab' in sys.modules\n",
        "\n",
        "import math\n",
        "from matplotlib import pyplot as plt\n",
        "import cv2\n",
        "import numpy as np\n",
        "import pandas as pd\n",
        "import os\n",
        "import copy\n",
        "import glob\n",
        "from IPython.display import display, clear_output\n",
        "import seaborn as sns\n",
        "\n",
        "if IN_COLAB:\n",
        "  %tensorflow_version 2.x\n",
        "import tensorflow as tf\n",
        "from tensorflow.keras import datasets, layers, models\n",
        "from tensorflow.keras.models import Sequential\n",
        "from tensorflow.keras.layers import Dense, GlobalAveragePooling2D, Conv2D, MaxPooling2D, Dropout, Flatten, Activation, BatchNormalization\n",
        "from keras.utils.np_utils import to_categorical\n",
        "from tensorflow.keras.applications.inception_v3 import InceptionV3\n",
        "from tensorflow.keras.models import Model\n",
        "from tensorflow.keras.optimizers import SGD\n",
        "import tensorflow_addons as tfa\n",
        "import tensorflow.keras.backend as K\n",
        "\n",
        "from sklearn.metrics import confusion_matrix\n",
        "from sklearn.model_selection import train_test_split\n",
        "pd.options.mode.chained_assignment = None\n",
        "AUTOTUNE = tf.data.experimental.AUTOTUNE\n",
        "\n",
        "%precision %.5f\n",
        "np.set_printoptions(suppress=True, precision=5)\n",
        "\n",
        "from google.colab import drive\n",
        "drive.mount('/content/drive')"
      ],
      "execution_count": 2,
      "outputs": [
        {
          "output_type": "stream",
          "text": [
            "/usr/local/lib/python3.6/dist-packages/statsmodels/tools/_testing.py:19: FutureWarning: pandas.util.testing is deprecated. Use the functions in the public API at pandas.testing instead.\n",
            "  import pandas.util.testing as tm\n",
            "Using TensorFlow backend.\n"
          ],
          "name": "stderr"
        },
        {
          "output_type": "stream",
          "text": [
            "Go to this URL in a browser: https://accounts.google.com/o/oauth2/auth?client_id=947318989803-6bn6qk8qdgf4n4g3pfee6491hc0brc4i.apps.googleusercontent.com&redirect_uri=urn%3aietf%3awg%3aoauth%3a2.0%3aoob&response_type=code&scope=email%20https%3a%2f%2fwww.googleapis.com%2fauth%2fdocs.test%20https%3a%2f%2fwww.googleapis.com%2fauth%2fdrive%20https%3a%2f%2fwww.googleapis.com%2fauth%2fdrive.photos.readonly%20https%3a%2f%2fwww.googleapis.com%2fauth%2fpeopleapi.readonly\n",
            "\n",
            "Enter your authorization code:\n",
            "··········\n",
            "Mounted at /content/drive\n"
          ],
          "name": "stdout"
        }
      ]
    },
    {
      "cell_type": "code",
      "metadata": {
        "colab_type": "code",
        "id": "zjNKAMfgT0-i",
        "colab": {}
      },
      "source": [
        "from tensorflow.python.client import device_lib\n",
        "print(device_lib.list_local_devices())"
      ],
      "execution_count": 0,
      "outputs": []
    },
    {
      "cell_type": "markdown",
      "metadata": {
        "colab_type": "text",
        "id": "v1BWVvqmhI2d"
      },
      "source": [
        "##  Define constants"
      ]
    },
    {
      "cell_type": "code",
      "metadata": {
        "colab_type": "code",
        "id": "uxgly65M_BOA",
        "colab": {}
      },
      "source": [
        "CLASS_NAMES = np.array(['No DR', 'Mild', 'Moderate', 'Severe', 'Proliferative DR'])\n",
        "CLASS_INDEXES = [0,1,2,3,4]\n",
        "WIDTH = HEIGHT = 224\n",
        "BATCH_SIZE = 32\n",
        "PROJECT_DIR = 'drive/My Drive/diabetic-retinopathy-thesis'\n",
        "BASE_IMAGE_DIR = os.path.join(PROJECT_DIR, 'train_processed')\n",
        "TRAIN_LABELS_PATH = os.path.join(PROJECT_DIR, 'trainLabels.csv')"
      ],
      "execution_count": 0,
      "outputs": []
    },
    {
      "cell_type": "markdown",
      "metadata": {
        "colab_type": "text",
        "id": "Or9VhmoNgtsM"
      },
      "source": [
        "# Process dataframe "
      ]
    },
    {
      "cell_type": "code",
      "metadata": {
        "colab_type": "code",
        "id": "ngulM9EijguA",
        "colab": {}
      },
      "source": [
        "def load_df():\n",
        "  df = pd.read_csv(TRAIN_LABELS_PATH)\n",
        "  df['image_path'] = BASE_IMAGE_DIR + '/' + df['image'].astype(str) + '.jpeg'\n",
        "  df = df.drop(columns=['image'])\n",
        "  return df\n",
        "\n",
        "def remove_unexist(df):\n",
        "  all_images = glob.glob(BASE_IMAGE_DIR + \"/*\")\n",
        "  while len(all_images) == 0:\n",
        "    all_images = glob.glob(BASE_IMAGE_DIR + \"/*\")\n",
        "  print('Found', len(all_images), 'images')\n",
        "  df['exists'] = df['image_path'].map(lambda p: p in all_images)\n",
        "  df = df[df['exists']].drop(columns=['exists'])\n",
        "  print('Number of existed images is', len(df))\n",
        "  return df\n",
        "\n",
        "def train_val_split(df):\n",
        "  train_img, val_img = train_test_split(df['image_path'], \n",
        "                                        test_size = 0.20, \n",
        "                                        random_state = 2020,\n",
        "                                        stratify = df['level'].to_frame())\n",
        "  train_df = df[df['image_path'].isin(train_img)]\n",
        "  val_df = df[df['image_path'].isin(val_img)]\n",
        "  print('Train dataframe size:', train_df.shape[0], 'Validation dataframe size:', val_df.shape[0])\n",
        "  return train_df, val_df\n",
        "\n",
        "def calc_weights(df):\n",
        "  level_counts = df['level'].value_counts().sort_index()\n",
        "  weights = {cls: len(df) / count for cls, count in enumerate(level_counts)}\n",
        "  print('Weights for each level:\\n', weights)\n",
        "  return weights\n",
        "\n",
        "def get_samples_of_level(df, level, count):\n",
        "  to_add = []\n",
        "  it = iter(df[df['level']==level].iterrows())\n",
        "\n",
        "  while count > len(to_add):\n",
        "    _, row = None, None\n",
        "    try:\n",
        "      _, row = next(it)\n",
        "    except StopIteration:\n",
        "      it = iter(df[df['level']==level].iterrows())\n",
        "      _, row = next(it)\n",
        "    to_add.append(copy.deepcopy(row))\n",
        "\n",
        "  return to_add\n",
        "\n",
        "# Upsampling and Downsampling based on multiplicator or exact count for each category\n",
        "# For example multipliers={0: 2} will take 2 times more samples of category 0 than exist.\n",
        "def balancing(df, multipliers=None, counts=None):\n",
        "  max_level_count = df['level'].value_counts().max()\n",
        "\n",
        "  for level in df['level'].unique():\n",
        "    count_of_level = df[df['level']==level].count()[0]\n",
        "\n",
        "    count_diff = 0\n",
        "    if multipliers != None:\n",
        "      if level in multipliers:\n",
        "        count_diff = int(count_of_level * multipliers[level]) - count_of_level\n",
        "    elif counts != None:\n",
        "      if level in counts:\n",
        "        count_diff = counts[level] - count_of_level\n",
        "    else:\n",
        "      if count_of_level == max_level_count:\n",
        "        continue\n",
        "      count_diff = max_level_count - count_of_level\n",
        "\n",
        "    if count_diff == 0:\n",
        "      continue\n",
        "    print('Need to add(or remove)',count_diff, 'copies of level', level, 'where count of level is', count_of_level)\n",
        "    if count_diff < 0:\n",
        "      df_level = df[df['level'] == level] \n",
        "      df = df.drop(df_level.sample(count_diff * -1).index)\n",
        "    else:    \n",
        "      df = df.append(get_samples_of_level(df, level, count_diff), ignore_index=True)\n",
        "\n",
        "  return df\n",
        "\n",
        "def shrink_dataset_equally(df, number_of_each_level=None):\n",
        "  levels = df['level'].unique()\n",
        "\n",
        "  if number_of_each_level is None:\n",
        "    number_of_each_level = df['level'].value_counts().min()\n",
        "\n",
        "  def get_rows(df_tmp):\n",
        "    size = len(df_tmp)\n",
        "    return df_tmp.sample(number_of_each_level) if size >= number_of_each_level else df_tmp\n",
        "\n",
        "  df_tmp = get_rows(df[df['level'] == levels[0]])\n",
        "  for l in levels[1:]:\n",
        "      df_tmp = df_tmp.append(get_rows(df[df['level'] == l]), ignore_index=True)\n",
        "  return df_tmp\n",
        "\n",
        "def shrink_dataset(df, count):\n",
        "  return df[:count]\n",
        "\n",
        "def shuffle(df):\n",
        "  df = df.sample(frac=1).reset_index(drop=True)\n",
        "  return df\n",
        "\n",
        "def prepare_data():\n",
        "  df = load_df()\n",
        "  df = remove_unexist(df)\n",
        "  df = shuffle(df)\n",
        "  # df = shrink_dataset(df, 10000)\n",
        "\n",
        "  train_df, val_df = train_val_split(df)\n",
        "  # train_df = balancing(train_df) # take the same number of samples as majority category has\n",
        "  # train_df = balancing(train_df, multipliers={0:0.3, 1:0.7, 2:0.4, 3:2, 4:2})\n",
        "  train_df = balancing(train_df, counts={0:6000, 1:6000, 2:6000, 3:6000, 4:6000}) # take 6000 samples from each category\n",
        "  # train_df = shrink_dataset_equally(train_df)\n",
        "  train_df = shuffle(train_df)\n",
        "  weights = calc_weights(train_df)\n",
        "\n",
        "  return train_df, val_df, weights"
      ],
      "execution_count": 0,
      "outputs": []
    },
    {
      "cell_type": "code",
      "metadata": {
        "colab_type": "code",
        "id": "z87lfvc6_BN3",
        "outputId": "082c1954-8ce8-44a1-dc05-1bef81edf945",
        "colab": {
          "base_uri": "https://localhost:8080/",
          "height": 185
        }
      },
      "source": [
        "train_df, val_df, weights = prepare_data()"
      ],
      "execution_count": 5,
      "outputs": [
        {
          "output_type": "stream",
          "text": [
            "Found 35126 images\n",
            "Number of existed images is 35126\n",
            "Train dataframe size: 28100 Validation dataframe size: 7026\n",
            "Need to add(or remove) -14648 copies of level 0 where count of level is 20648\n",
            "Need to add(or remove) 4046 copies of level 1 where count of level is 1954\n",
            "Need to add(or remove) 1766 copies of level 2 where count of level is 4234\n",
            "Need to add(or remove) 5434 copies of level 4 where count of level is 566\n",
            "Need to add(or remove) 5302 copies of level 3 where count of level is 698\n",
            "Weights for each level:\n",
            " {0: 5.0, 1: 5.0, 2: 5.0, 3: 5.0, 4: 5.0}\n"
          ],
          "name": "stdout"
        }
      ]
    },
    {
      "cell_type": "code",
      "metadata": {
        "id": "G0Kebcvo8Qyc",
        "colab_type": "code",
        "outputId": "6dc0b29c-9326-466c-8405-47553d45d400",
        "colab": {
          "base_uri": "https://localhost:8080/",
          "height": 186
        }
      },
      "source": [
        "val_df['level'].value_counts().plot(kind='bar', figsize=(5,2), title='Level distribution')"
      ],
      "execution_count": 8,
      "outputs": [
        {
          "output_type": "execute_result",
          "data": {
            "text/plain": [
              "<matplotlib.axes._subplots.AxesSubplot at 0x7f2d8a68e898>"
            ]
          },
          "metadata": {
            "tags": []
          },
          "execution_count": 8
        },
        {
          "output_type": "display_data",
          "data": {
            "image/png": "[encoded data removed]",
            "text/plain": [
              "<Figure size 360x144 with 1 Axes>"
            ]
          },
          "metadata": {
            "tags": [],
            "needs_background": "light"
          }
        }
      ]
    },
    {
      "cell_type": "markdown",
      "metadata": {
        "colab_type": "text",
        "id": "X67SvwtAn_Os"
      },
      "source": [
        "# Build input pipeline"
      ]
    },
    {
      "cell_type": "markdown",
      "metadata": {
        "id": "j7ABUpKJ_vF3",
        "colab_type": "text"
      },
      "source": [
        "#### Augmentation functions"
      ]
    },
    {
      "cell_type": "code",
      "metadata": {
        "id": "Jf2vGD0e_vF5",
        "colab_type": "code",
        "colab": {}
      },
      "source": [
        "def rotate(x):\n",
        "  # Rotate 0, 90, 180, 270 degrees\n",
        "  return tf.image.rot90(x, tf.random.uniform(shape=[], minval=0, maxval=4, dtype=tf.int32))\n",
        "\n",
        "def flip(x):\n",
        "  x = tf.image.random_flip_left_right(x)\n",
        "  x = tf.image.random_flip_up_down(x)\n",
        "  return x\n",
        "\n",
        "def color(x):\n",
        "  x = tf.image.random_hue(x, 0.14)\n",
        "  x = tf.image.random_saturation(x, 0.7, 1.5)\n",
        "  x = tf.image.random_brightness(x, 0.1)\n",
        "  x = tf.image.random_contrast(x, 0.8, 1.5)\n",
        "  return x\n",
        "\n",
        "def zoom(x):\n",
        "  # Generate 20 crop settings, ranging from a 1% to 10% crop.\n",
        "  scales = list(np.arange(0.8, 1.0, 0.01))\n",
        "  boxes = np.zeros((len(scales), 4))\n",
        "\n",
        "  for i, scale in enumerate(scales):\n",
        "    x1 = y1 = 0.5 - (0.5 * scale)\n",
        "    x2 = y2 = 0.5 + (0.5 * scale)\n",
        "    boxes[i] = [x1, y1, x2, y2]\n",
        "\n",
        "  def random_crop(img):\n",
        "    # Create different crops for an image\n",
        "    crops = tf.image.crop_and_resize([img], boxes=boxes, box_indices=np.zeros(len(scales)), crop_size=(HEIGHT, WIDTH))\n",
        "    # Return a random crop\n",
        "    return crops[tf.random.uniform(shape=[], minval=0, maxval=len(scales), dtype=tf.int32)]\n",
        "\n",
        "  choice = tf.random.uniform(shape=[], minval=0., maxval=1., dtype=tf.float32)\n",
        "\n",
        "  # Only apply cropping 50% of the time\n",
        "  return tf.cond(choice < 0.7, lambda: x, lambda: random_crop(x))\n",
        "\n",
        "def augment(dataset, aug_probability=1):\n",
        "  # Add augmentations\n",
        "  # augmentations = [flip, color, zoom, rotate]\n",
        "  augmentations = [flip, rotate, color, zoom]\n",
        "\n",
        "  def augment_map(img, level, aug_fun):\n",
        "    # return aug_fun(img), level\n",
        "    return (tf.cond(tf.math.argmax(level, axis=0) > 0, lambda: img, lambda: aug_fun(img)), level)\n",
        "    # choice = tf.random.uniform(shape=[], minval=0., maxval=1., dtype=tf.float32)\n",
        "    # return (tf.cond(choice < aug_probability, lambda: img, lambda: aug_fun(img)),\n",
        "    #         level)\n",
        "    \n",
        "  # Add the augmentations to the dataset\n",
        "  for f in augmentations:\n",
        "    # Apply the augmentation, run 4 jobs in parallel.\n",
        "    dataset = dataset.map(lambda img, level: augment_map(img,level,f), num_parallel_calls=AUTOTUNE)\n",
        "\n",
        "  # Make sure that the values are still in [0, 1]\n",
        "  dataset = dataset.map(lambda img, level: (tf.clip_by_value(img, 0, 1),level), num_parallel_calls=AUTOTUNE)\n",
        "  return dataset"
      ],
      "execution_count": 0,
      "outputs": []
    },
    {
      "cell_type": "markdown",
      "metadata": {
        "id": "hskOcpuBlxCf",
        "colab_type": "text"
      },
      "source": [
        "#### Work with batches"
      ]
    },
    {
      "cell_type": "code",
      "metadata": {
        "colab_type": "code",
        "id": "Nn8fi-uL_BN8",
        "colab": {}
      },
      "source": [
        "def get_input_shape():\n",
        "  return (HEIGHT, WIDTH, 3)\n",
        "\n",
        "def decode_img(img):\n",
        "  # convert the compressed string to a 3D uint8 tensor\n",
        "  img = tf.image.decode_jpeg(img, channels=3)\n",
        "  # Use `convert_image_dtype` to convert to floats in the [0,1] range.\n",
        "  img = tf.image.convert_image_dtype(img, tf.float32)\n",
        "  # resize the image to the desired size.\n",
        "  return tf.image.resize(img, [WIDTH, HEIGHT])\n",
        "\n",
        "def get_label(level):\n",
        "  return tf.cast(level == CLASS_INDEXES, dtype=tf.float32)\n",
        "\n",
        "def process_path(file_path, level):\n",
        "  label = get_label(level)\n",
        "  img = tf.io.read_file(file_path)\n",
        "  img = decode_img(img)\n",
        "  return img, label\n",
        "\n",
        "def prepare(ds, shuffle_buffer_size=1000):\n",
        "  ds = ds.shuffle(buffer_size=shuffle_buffer_size)\n",
        "  ds = ds.repeat()\n",
        "  ds = ds.batch(BATCH_SIZE)\n",
        "  ds = ds.prefetch(buffer_size=AUTOTUNE)\n",
        "  return ds\n",
        "\n",
        "def show_batch(image_batch, label_batch, number_to_show=4, predicted_labels=None):\n",
        "  row_count = math.ceil(number_to_show / 4)\n",
        "  fig, m_axs = plt.subplots(4, row_count, figsize = (16, row_count * 4))\n",
        "  for i, (c_x, c_y, c_ax) in enumerate(zip(image_batch, label_batch, m_axs.flatten())):\n",
        "    c_ax.imshow(c_x)\n",
        "    real_level = CLASS_NAMES[c_y==1][0]\n",
        "    pred_level = ''\n",
        "    title = 'Real level: ' + real_level\n",
        "    if predicted_labels is not None:\n",
        "      pred_level = CLASS_NAMES[predicted_labels[i]]\n",
        "      title = title + '\\nPredicted one: ' + pred_level\n",
        "    c_ax.set_title(title, color='g' if pred_level == '' or real_level == pred_level else 'r')\n",
        "    c_ax.axis('off')     \n",
        "\n",
        "def dataset_from_tensor_slices(df):\n",
        "  return tf.data.Dataset.from_tensor_slices((\n",
        "      df['image_path'].to_numpy(copy=True),\n",
        "      df['level'].to_numpy(copy=True)))\n",
        "\n",
        "def create_datasets(train_df, val_df):\n",
        "  train_ds = dataset_from_tensor_slices(train_df)\n",
        "  val_ds = dataset_from_tensor_slices(val_df)\n",
        "\n",
        "  train_ds = train_ds.map(process_path, num_parallel_calls=AUTOTUNE)\n",
        "  # train_ds = train_ds.cache()\n",
        "  # train_ds = train_ds.cache('train_cache')\n",
        "  # train_ds = augment(train_ds)\n",
        "  train_ds = prepare(train_ds)\n",
        "\n",
        "  val_ds = val_ds.map(process_path, num_parallel_calls=AUTOTUNE)\n",
        "  # val_ds = val_ds.cache()\n",
        "  # val_ds = val_ds.cache('val_cache')\n",
        "  val_ds = prepare(val_ds)\n",
        "  \n",
        "  return train_ds, len(train_df), val_ds, len(val_df)"
      ],
      "execution_count": 0,
      "outputs": []
    },
    {
      "cell_type": "code",
      "metadata": {
        "colab_type": "code",
        "id": "i1sd3uAX7fYL",
        "colab": {}
      },
      "source": [
        "train_ds, train_count, val_ds, val_count = create_datasets(train_df, val_df)"
      ],
      "execution_count": 0,
      "outputs": []
    },
    {
      "cell_type": "markdown",
      "metadata": {
        "id": "zO6c8CjSVO2O",
        "colab_type": "text"
      },
      "source": [
        "# Define callbacks and metrics"
      ]
    },
    {
      "cell_type": "markdown",
      "metadata": {
        "id": "J5KjMpy-VXDP",
        "colab_type": "text"
      },
      "source": [
        "#### Training History Callback\n",
        "Helps with persist all metrics and weights in situation when you interupt training"
      ]
    },
    {
      "cell_type": "code",
      "metadata": {
        "id": "hnTsIrLlVa_2",
        "colab_type": "code",
        "colab": {}
      },
      "source": [
        "class TrainingHistoryCallback(tf.keras.callbacks.Callback):\n",
        "  def __init__(self, metrics, save_weights=True):\n",
        "    self.metrics = {}\n",
        "    self.weights = []\n",
        "    self.save_weights = save_weights\n",
        "    for m in metrics:\n",
        "      self.metrics[m] = []\n",
        "      self.metrics['val_' + m] = []\n",
        "\n",
        "  def on_epoch_end(self, epoch, logs=None):\n",
        "    for key in self.metrics.keys():\n",
        "      self.metrics[key].append(logs.get(key))\n",
        "    if self.save_weights:\n",
        "      self.weights.append([])\n",
        "      for l in model.layers:\n",
        "        self.weights[epoch].append(l.get_weights())"
      ],
      "execution_count": 0,
      "outputs": []
    },
    {
      "cell_type": "markdown",
      "metadata": {
        "id": "DubVed_hnK4V",
        "colab_type": "text"
      },
      "source": [
        "#### Cohen Kappa loss and metric\n",
        "Intersting idea. Instead of optimizing standart loss we can optimize directly Cohen Kappa, which is used in Kaggle competitions. This metric is better choice for imbalance data set."
      ]
    },
    {
      "cell_type": "code",
      "metadata": {
        "id": "lklmvq63nKeR",
        "colab_type": "code",
        "colab": {}
      },
      "source": [
        "def cohen_kappa_loss(y_true, y_pred, row_label_vec, col_label_vec, weight_mat,  eps=1e-6, dtype=tf.float32):\n",
        "    labels = tf.matmul(y_true, col_label_vec)\n",
        "    weight = tf.pow(tf.tile(labels, [1, tf.shape(y_true)[1]]) - tf.tile(row_label_vec, [tf.shape(y_true)[0], 1]), 2)\n",
        "    weight /= tf.cast(tf.pow(tf.shape(y_true)[1] - 1, 2), dtype=dtype)\n",
        "    numerator = tf.reduce_sum(weight * y_pred)\n",
        "    \n",
        "    denominator = tf.reduce_sum(\n",
        "        tf.matmul(\n",
        "            tf.reduce_sum(y_true, axis=0, keepdims=True),\n",
        "            tf.matmul(weight_mat, tf.transpose(tf.reduce_sum(y_pred, axis=0, keepdims=True)))\n",
        "        )\n",
        "    )\n",
        "    \n",
        "    denominator /= tf.cast(tf.shape(y_true)[0], dtype=dtype)\n",
        "    \n",
        "    return tf.math.log(numerator / denominator + eps)\n",
        "\n",
        "class CohenKappaLoss(tf.keras.losses.Loss):\n",
        "    def __init__(self,\n",
        "                 num_classes,\n",
        "                 name='cohen_kappa_loss',\n",
        "                 eps=1e-6,\n",
        "                 dtype=tf.float32):\n",
        "        super(CohenKappaLoss, self).__init__(name=name, reduction=tf.keras.losses.Reduction.NONE)\n",
        "        \n",
        "        self.num_classes = num_classes\n",
        "        self.eps = eps\n",
        "        self.dtype = dtype\n",
        "        label_vec = tf.range(num_classes, dtype=dtype)\n",
        "        self.row_label_vec = tf.reshape(label_vec, [1, num_classes])\n",
        "        self.col_label_vec = tf.reshape(label_vec, [num_classes, 1])\n",
        "        self.weight_mat = tf.pow(\n",
        "            tf.tile(self.col_label_vec, [1, num_classes]) - tf.tile(self.row_label_vec, [num_classes, 1]),\n",
        "        2) / tf.cast(tf.pow(num_classes - 1, 2), dtype=dtype)\n",
        "\n",
        "\n",
        "    def call(self, y_true, y_pred, sample_weight=None):\n",
        "        return cohen_kappa_loss(\n",
        "            y_true, y_pred, self.row_label_vec, self.col_label_vec, self.weight_mat, self.eps, self.dtype\n",
        "        )\n",
        "\n",
        "\n",
        "    def get_config(self):\n",
        "        config = {\n",
        "            \"num_classes\": self.num_classes,\n",
        "            \"eps\": self.eps,\n",
        "            \"dtype\": self.dtype\n",
        "        }\n",
        "        base_config = super(CohenKappaLoss, self).get_config()\n",
        "        return dict(list(base_config.items()) + list(config.items()))"
      ],
      "execution_count": 0,
      "outputs": []
    },
    {
      "cell_type": "markdown",
      "metadata": {
        "id": "rvNiUeCr6X2d",
        "colab_type": "text"
      },
      "source": [
        "#### Recall of sick category\n",
        "Treats all sick people as one category. The lower recall, means we skip more pacient who needs the treatment.  "
      ]
    },
    {
      "cell_type": "code",
      "metadata": {
        "id": "zaYlDzqv6kAZ",
        "colab_type": "code",
        "colab": {}
      },
      "source": [
        "class Recall(tf.keras.metrics.Metric):\n",
        "\n",
        "    def __init__(self, name='recall_multi', **kwargs):\n",
        "      super(Recall, self).__init__(name=name, **kwargs)\n",
        "      self.builtin_metric = tf.keras.metrics.Recall()\n",
        "\n",
        "    def update_state(self, y_true, y_pred, sample_weight=None):\n",
        "      non_healthy_gt = tf.math.greater(tf.math.argmax(y_true, axis=1), 0)\n",
        "      non_healthy_pr = tf.math.greater(tf.math.argmax(y_pred, axis=1), 0)\n",
        "      self.builtin_metric.update_state(non_healthy_gt, non_healthy_pr)\n",
        "\n",
        "    def result(self):\n",
        "      return self.builtin_metric.result()\n",
        "\n",
        "    def reset_states(self):\n",
        "      # The state of the metric will be reset at the start of each epoch.\n",
        "      self.builtin_metric.reset_states()"
      ],
      "execution_count": 0,
      "outputs": []
    },
    {
      "cell_type": "markdown",
      "metadata": {
        "id": "uJw_xK3pExy-",
        "colab_type": "text"
      },
      "source": [
        "#### **List callbacks and metrics to use in model**"
      ]
    },
    {
      "cell_type": "code",
      "metadata": {
        "id": "55tlQ6YjCh81",
        "colab_type": "code",
        "colab": {}
      },
      "source": [
        "def get_callbacks(save_best_models=True, early_stopping=True, reduce_lr_on_plateau=True):\n",
        "  callbacks = []\n",
        "  if save_best_models:\n",
        "    callbacks.append(tf.keras.callbacks.ModelCheckpoint(\n",
        "        os.path.join(PROJECT_DIR, 'models/model.e_{epoch:02d}-acc_{val_categorical_accuracy:.2f}-f1_{val_f1_score}.hdf5'), \n",
        "        monitor='val_categorical_accuracy', \n",
        "        verbose=0, \n",
        "        save_best_only=True, \n",
        "        save_weights_only=False, \n",
        "        mode='auto'))\n",
        "  if early_stopping:\n",
        "    callbacks.append(tf.keras.callbacks.EarlyStopping(\n",
        "        monitor='val_categorical_accuracy', \n",
        "        patience=20, \n",
        "        restore_best_weights=True))\n",
        "  if reduce_lr_on_plateau:\n",
        "    callbacks.append(tf.keras.callbacks.ReduceLROnPlateau(\n",
        "        monitor='val_loss', \n",
        "        factor=0.8, \n",
        "        patience=3, \n",
        "        verbose=1, \n",
        "        mode='auto', \n",
        "        epsilon=0.0001, \n",
        "        cooldown=5, \n",
        "        min_lr=0.00001))\n",
        "  return callbacks\n",
        "\n",
        "def top_2_accuracy(in_gt, in_pred):\n",
        "  return tf.keras.metrics.top_k_categorical_accuracy(in_gt, in_pred, k=2)\n",
        "\n",
        "def get_metrics():\n",
        "  return ['categorical_accuracy', tfa.metrics.F1Score(len(CLASS_INDEXES)), Recall(), top_2_accuracy]"
      ],
      "execution_count": 0,
      "outputs": []
    },
    {
      "cell_type": "markdown",
      "metadata": {
        "id": "8ONb5zB3LyuU",
        "colab_type": "text"
      },
      "source": [
        "# Model Definitions"
      ]
    },
    {
      "cell_type": "markdown",
      "metadata": {
        "id": "LhRDSErnGKIY",
        "colab_type": "text"
      },
      "source": [
        "#### My Custom Model"
      ]
    },
    {
      "cell_type": "code",
      "metadata": {
        "id": "IHKewlWuGJYy",
        "colab_type": "code",
        "colab": {}
      },
      "source": [
        "def get_model():\n",
        "  model = models.Sequential()\n",
        "\n",
        "  model.add(Conv2D(32, (3, 3), padding='same', activation='relu', input_shape=get_input_shape()))\n",
        "  model.add(BatchNormalization())\n",
        "  model.add(MaxPooling2D())\n",
        "\n",
        "  model.add(Conv2D(32, (3, 3), padding='same', activation='relu'))\n",
        "  model.add(BatchNormalization())\n",
        "  model.add(MaxPooling2D())\n",
        "\n",
        "  model.add(Conv2D(64, (3, 3), padding='same', activation='relu'))\n",
        "  model.add(BatchNormalization())\n",
        "  model.add(MaxPooling2D())\n",
        "\n",
        "  model.add(Conv2D(64, (3, 3), padding='same', activation='relu'))\n",
        "  model.add(BatchNormalization())\n",
        "  model.add(MaxPooling2D())\n",
        "\n",
        "  model.add(Conv2D(128, (3, 3), padding='same', activation='relu'))\n",
        "  model.add(BatchNormalization())\n",
        "  model.add(MaxPooling2D())\n",
        "\n",
        "  model.add(Conv2D(128, (3, 3), padding='same', activation='relu'))\n",
        "  model.add(BatchNormalization())\n",
        "  model.add(MaxPooling2D())\n",
        "\n",
        "  model.add(Conv2D(256, (3, 3), padding='same', activation='relu'))\n",
        "  model.add(BatchNormalization())\n",
        "\n",
        "  model.add(Conv2D(256, (3, 3), padding='same', activation='relu'))\n",
        "  model.add(BatchNormalization())\n",
        "  model.add(MaxPooling2D())\n",
        "\n",
        "  model.add(Conv2D(512, (3, 3), padding='same', activation='relu'))\n",
        "  model.add(BatchNormalization())\n",
        "\n",
        "  model.add(Conv2D(512, (3, 3), padding='same', activation='relu'))\n",
        "  model.add(BatchNormalization())\n",
        "  model.add(MaxPooling2D())\n",
        "\n",
        "  model.add(GlobalAveragePooling2D())\n",
        "  model.add(Dropout(0.5))\n",
        "  model.add(Dense(2048, activation='relu'))\n",
        "  model.add(Dropout(0.5))\n",
        "  model.add(Dense(2048, activation='relu'))\n",
        "  model.add(Dropout(0.5))\n",
        "  model.add(Dense(len(CLASS_NAMES), activation='softmax'))\n",
        "\n",
        "  optimizer = tf.keras.optimizers.Adam(learning_rate=0.00002)\n",
        "  model.compile(optimizer = optimizer, loss = 'categorical_crossentropy', metrics=get_metrics())\n",
        "  return model"
      ],
      "execution_count": 0,
      "outputs": []
    },
    {
      "cell_type": "markdown",
      "metadata": {
        "id": "Er8XzoNHGYXp",
        "colab_type": "text"
      },
      "source": [
        "#### Vgg-19\n",
        "[Lecture from Stanford](http://cs231n.stanford.edu/slides/2017/cs231n_2017_lecture9.pdf)"
      ]
    },
    {
      "cell_type": "code",
      "metadata": {
        "id": "qesm4UHYGQmr",
        "colab_type": "code",
        "colab": {}
      },
      "source": [
        "def get_vgg_model():\n",
        "  model = Sequential()\n",
        "  model.add(Conv2D(64, (3, 3), padding = \"same\", activation = \"relu\", input_shape = get_input_shape()))\n",
        "  model.add(Conv2D(64, (3, 3), padding = \"same\", activation = \"relu\"))\n",
        "  model.add(MaxPooling2D((2, 2)))\n",
        "  # model.add(BatchNormalization())\n",
        "\n",
        "  model.add(Conv2D(128, (3, 3), padding = \"same\", activation = \"relu\"))\n",
        "  model.add(Conv2D(128, (3, 3), padding = \"same\", activation = \"relu\"))\n",
        "  model.add(MaxPooling2D((2, 2)))\n",
        "  # model.add(BatchNormalization())\n",
        "\n",
        "  model.add(Conv2D(256, (3, 3), padding = \"same\", activation = \"relu\"))\n",
        "  model.add(Conv2D(256, (3, 3), padding = \"same\", activation = \"relu\"))\n",
        "  model.add(MaxPooling2D((2, 2)))\n",
        "  # model.add(BatchNormalization())\n",
        "\n",
        "  model.add(Conv2D(512, (3, 3), padding = \"same\", activation = \"relu\"))\n",
        "  model.add(Conv2D(512, (3, 3), padding = \"same\", activation = \"relu\"))\n",
        "  model.add(Conv2D(512, (3, 3), padding = \"same\", activation = \"relu\"))\n",
        "  model.add(Conv2D(512, (3, 3), padding = \"same\", activation = \"relu\"))\n",
        "  model.add(MaxPooling2D((2, 2)))\n",
        "  # model.add(BatchNormalization())\n",
        "\n",
        "  model.add(Conv2D(512, (3, 3), padding = \"same\", activation = \"relu\"))\n",
        "  model.add(Conv2D(512, (3, 3), padding = \"same\", activation = \"relu\"))\n",
        "  model.add(Conv2D(512, (3, 3), padding = \"same\", activation = \"relu\"))\n",
        "  model.add(Conv2D(512, (3, 3), padding = \"same\", activation = \"relu\"))\n",
        "  model.add(MaxPooling2D((2, 2)))\n",
        "  # model.add(BatchNormalization())\n",
        "\n",
        "  model.add(Flatten())\n",
        "  model.add(Dense(4096, activation = \"relu\"))\n",
        "  model.add(Dropout(0.5))\n",
        "  model.add(Dense(4096, activation = \"relu\"))\n",
        "  model.add(Dropout(0.5))\n",
        "  model.add(Dense(1024, activation = \"relu\"))\n",
        "  model.add(Dropout(0.5))\n",
        "  model.add(Dense(len(CLASS_NAMES), activation = \"softmax\"))\n",
        "\n",
        "  optimizer = tf.keras.optimizers.Adam(learning_rate=0.00002)\n",
        "  model.compile(optimizer = optimizer, loss = CohenKappaLoss(5), metrics=get_metrics())\n",
        "  return model"
      ],
      "execution_count": 0,
      "outputs": []
    },
    {
      "cell_type": "markdown",
      "metadata": {
        "id": "ZOeej_fKIbnf",
        "colab_type": "text"
      },
      "source": [
        "#### Inception v3\n",
        "The Fine-Tuning technique is used here. "
      ]
    },
    {
      "cell_type": "code",
      "metadata": {
        "id": "_1qF6kP_Jv3h",
        "colab_type": "code",
        "colab": {}
      },
      "source": [
        "def get_inception_v3(train, train_count, weights, freeze_layers_number):\n",
        "  # create the base pre-trained model\n",
        "  base_model = InceptionV3(weights='imagenet', \n",
        "                           include_top=False, \n",
        "                           input_shape=(HEIGHT, WIDTH, 3))\n",
        "\n",
        "  # add a global spatial average pooling layer\n",
        "  x = base_model.output\n",
        "  x = Dropout(0.5)(x)\n",
        "  x = BatchNormalization()(x)\n",
        "\n",
        "  # x = Conv2D(256, (3, 3), strides=1,  padding = \"same\", activation = \"relu\")(x)\n",
        "  # x = Conv2D(256, (3, 3), strides=1,  padding = \"same\", activation = \"relu\")(x)\n",
        "  # x = MaxPooling2D((3, 3), strides=2)(x)\n",
        "  # x = BatchNormalization()(x)\n",
        "\n",
        "  # let's add a fully-connected layer\n",
        "  x = GlobalAveragePooling2D()(x)\n",
        "  x = Dense(1024, activation='relu')(x)\n",
        "  x = Dropout(0.5)(x)\n",
        "  x = Dense(1024, activation='relu')(x)\n",
        "  x = Dropout(0.5)(x)\n",
        "  predictions = Dense(len(CLASS_NAMES), activation='softmax')(x)\n",
        "\n",
        "  # this is the model we will train\n",
        "  model = Model(inputs=base_model.input, outputs=predictions)\n",
        "\n",
        "  # first: train only the top layers (which were randomly initialized)\n",
        "  # i.e. freeze all convolutional InceptionV3 layers\n",
        "  for layer in base_model.layers:\n",
        "      layer.trainable = False\n",
        "    \n",
        "  # compile the model (should be done *after* setting layers to non-trainable)\n",
        "  model.compile(optimizer=tf.keras.optimizers.Adam(learning_rate=0.001), loss='categorical_crossentropy')\n",
        "\n",
        "  # train the model on the new data for a few epochs\n",
        "  model.fit(train, steps_per_epoch=train_count // BATCH_SIZE, epochs=1,\n",
        "          class_weight=weights)\n",
        "\n",
        "  # at this point, the top layers are well trained and we can start fine-tuning\n",
        "  # convolutional layers from inception V3. We will freeze the bottom N layers\n",
        "  # and train the remaining top layers.\n",
        "\n",
        "  # let's visualize layer names and layer indices to see how many layers\n",
        "  # we should freeze:\n",
        "  # for i, layer in enumerate(base_model.layers):\n",
        "  #   print(i, layer.name)\n",
        "\n",
        "  # we chose to train the top 2 inception blocks, i.e. we will freeze\n",
        "  # the first 249(172) layers and unfreeze the rest:\n",
        "  for layer in model.layers[:freeze_layers_number]:\n",
        "    layer.trainable = False\n",
        "  for layer in model.layers[freeze_layers_number:]:\n",
        "    layer.trainable = True\n",
        "\n",
        "  # we need to recompile the model for these modifications to take effect\n",
        "  # we use SGD with a low learning rate\n",
        "  model.compile(optimizer=tf.keras.optimizers.Adam(learning_rate=0.001), \n",
        "                loss='categorical_crossentropy',\n",
        "                metrics=get_metrics())\n",
        "\n",
        "  # we train our model again (this time fine-tuning the top 2 inception blocks\n",
        "  # alongside the top Dense layers\n",
        "  \n",
        "  return model"
      ],
      "execution_count": 0,
      "outputs": []
    },
    {
      "cell_type": "markdown",
      "metadata": {
        "id": "9Jvr2zh_J1KS",
        "colab_type": "text"
      },
      "source": [
        "#### All-Cnn\n",
        "Proposed [here](https://link.springer.com/chapter/10.1007/978-3-030-34869-4_21)"
      ]
    },
    {
      "cell_type": "code",
      "metadata": {
        "id": "h9WiRlQOTsPH",
        "colab_type": "code",
        "colab": {}
      },
      "source": [
        "def get_all_cnn_model():\n",
        "  model = Sequential()\n",
        "\n",
        "  model.add(Conv2D(32, (7, 7), strides=1, activation = \"relu\",  padding = \"valid\", input_shape = get_input_shape()))\n",
        "  model.add(BatchNormalization())\n",
        "  model.add(Dropout(0.5))\n",
        "  model.add(Conv2D(32, (5, 5), strides=1, activation = \"relu\",  padding = \"valid\"))\n",
        "  model.add(BatchNormalization())\n",
        "  model.add(Dropout(0.5))\n",
        "  model.add(Conv2D(32, (3, 3), strides=2, activation = \"relu\",  padding = \"valid\"))\n",
        "\n",
        "  model.add(Conv2D(64, (3, 3), strides=1, activation = \"relu\",  padding = \"valid\"))\n",
        "  model.add(BatchNormalization())\n",
        "  model.add(Dropout(0.5))\n",
        "  model.add(Conv2D(64, (3, 3), strides=2, activation = \"relu\",  padding = \"valid\"))\n",
        "\n",
        "  model.add(Conv2D(128, (3, 3), strides=1, activation = \"relu\",  padding = \"valid\"))\n",
        "  model.add(BatchNormalization())\n",
        "  model.add(Dropout(0.5))\n",
        "  model.add(Conv2D(128, (3, 3), strides=2, activation = \"relu\",  padding = \"valid\"))\n",
        "\n",
        "  model.add(Conv2D(128, (3, 3), strides=1, activation = \"relu\",  padding = \"valid\"))\n",
        "  model.add(BatchNormalization())\n",
        "  model.add(Dropout(0.5))\n",
        "\n",
        "  model.add(Conv2D(128, (1, 1), strides=1, activation = \"relu\",  padding = \"valid\"))\n",
        "  model.add(BatchNormalization())\n",
        "  model.add(Dropout(0.5))\n",
        "  model.add(Conv2D(5, (1, 1), strides=1, activation = \"relu\",  padding = \"valid\"))\n",
        "  model.add(Flatten())\n",
        "  model.add(Dense(len(CLASS_NAMES), activation = \"softmax\"))\n",
        "\n",
        "  optimizer = tf.keras.optimizers.SGD(learning_rate=0.001)\n",
        "  model.compile(optimizer = optimizer, loss = \"categorical_crossentropy\", metrics=get_metrics())\n",
        "  return model"
      ],
      "execution_count": 0,
      "outputs": []
    },
    {
      "cell_type": "markdown",
      "metadata": {
        "id": "4UyH_mznKJwj",
        "colab_type": "text"
      },
      "source": [
        "#### **Create model**"
      ]
    },
    {
      "cell_type": "code",
      "metadata": {
        "id": "ms9HS5qK_vGR",
        "colab_type": "code",
        "outputId": "13651e3a-05bd-42e9-d616-a09a8aa56977",
        "colab": {
          "base_uri": "https://localhost:8080/",
          "height": 34
        }
      },
      "source": [
        "try:\n",
        "  del model\n",
        "except:\n",
        "  print('There is no model defined')\n",
        "# model = get_model()\n",
        "# model = get_vgg_model()\n",
        "# model = get_alex_model()\n",
        "# model = get_inception_v3(train_ds, train_count, None, 172)\n",
        "model = get_all_cnn_model()\n",
        "# model.summary()"
      ],
      "execution_count": 17,
      "outputs": [
        {
          "output_type": "stream",
          "text": [
            "There is no model defined\n"
          ],
          "name": "stdout"
        }
      ]
    },
    {
      "cell_type": "markdown",
      "metadata": {
        "id": "HUiVTTjCLOtv",
        "colab_type": "text"
      },
      "source": [
        "# Training"
      ]
    },
    {
      "cell_type": "code",
      "metadata": {
        "colab_type": "code",
        "outputId": "93b36d55-b653-4893-b271-7dd4d80b439d",
        "id": "0Kv5snxyRlTh",
        "colab": {
          "base_uri": "https://localhost:8080/",
          "height": 693
        }
      },
      "source": [
        "callbacks = get_callbacks(save_best_models=False, early_stopping=False)\n",
        "callack_history = TrainingHistoryCallback(['loss', 'categorical_accuracy', 'f1_score'])\n",
        "callbacks.append(callack_history)\n",
        "\n",
        "history = model.fit(train_ds, steps_per_epoch=train_count // BATCH_SIZE, \n",
        "          validation_data=val_ds, validation_steps=val_count // BATCH_SIZE,\n",
        "          # class_weight=weights,\n",
        "          epochs=80,\n",
        "          callbacks=callbacks\n",
        "          )"
      ],
      "execution_count": 20,
      "outputs": [
        {
          "output_type": "stream",
          "text": [
            "WARNING:tensorflow:`epsilon` argument is deprecated and will be removed, use `min_delta` instead.\n",
            "Epoch 1/80\n",
            "937/937 [==============================] - 409s 437ms/step - loss: 1.7684 - categorical_accuracy: 0.2144 - f1_score: 0.2143 - recall_multi: 0.8020 - top_2_accuracy: 0.4210 - val_loss: 1.6849 - val_categorical_accuracy: 0.1374 - val_f1_score: 0.0936 - val_recall_multi: 0.9339 - val_top_2_accuracy: 0.2631 - lr: 0.0010\n",
            "Epoch 2/80\n",
            "937/937 [==============================] - 404s 431ms/step - loss: 1.6608 - categorical_accuracy: 0.2223 - f1_score: 0.2218 - recall_multi: 0.8002 - top_2_accuracy: 0.4356 - val_loss: 1.6915 - val_categorical_accuracy: 0.2359 - val_f1_score: 0.1302 - val_recall_multi: 0.7873 - val_top_2_accuracy: 0.3623 - lr: 0.0010\n",
            "Epoch 3/80\n",
            "937/937 [==============================] - 414s 441ms/step - loss: 1.6199 - categorical_accuracy: 0.2399 - f1_score: 0.2379 - recall_multi: 0.8078 - top_2_accuracy: 0.4608 - val_loss: 2.0245 - val_categorical_accuracy: 0.1358 - val_f1_score: 0.0872 - val_recall_multi: 0.8875 - val_top_2_accuracy: 0.2109 - lr: 0.0010\n",
            "Epoch 4/80\n",
            "937/937 [==============================] - ETA: 0s - loss: 1.6043 - categorical_accuracy: 0.2451 - f1_score: 0.2416 - recall_multi: 0.8013 - top_2_accuracy: 0.4722\n",
            "Epoch 00004: ReduceLROnPlateau reducing learning rate to 0.000800000037997961.\n",
            "937/937 [==============================] - 404s 431ms/step - loss: 1.6043 - categorical_accuracy: 0.2451 - f1_score: 0.2416 - recall_multi: 0.8013 - top_2_accuracy: 0.4722 - val_loss: 2.0479 - val_categorical_accuracy: 0.1327 - val_f1_score: 0.0898 - val_recall_multi: 0.9004 - val_top_2_accuracy: 0.2086 - lr: 0.0010\n",
            "Epoch 5/80\n",
            "937/937 [==============================] - 413s 441ms/step - loss: 1.5922 - categorical_accuracy: 0.2562 - f1_score: 0.2523 - recall_multi: 0.7931 - top_2_accuracy: 0.4785 - val_loss: 1.9202 - val_categorical_accuracy: 0.1717 - val_f1_score: 0.1139 - val_recall_multi: 0.8765 - val_top_2_accuracy: 0.2821 - lr: 8.0000e-04\n",
            "Epoch 6/80\n",
            "937/937 [==============================] - 409s 436ms/step - loss: 1.5829 - categorical_accuracy: 0.2605 - f1_score: 0.2553 - recall_multi: 0.7979 - top_2_accuracy: 0.4895 - val_loss: 2.1167 - val_categorical_accuracy: 0.0982 - val_f1_score: 0.0768 - val_recall_multi: 0.9403 - val_top_2_accuracy: 0.1848 - lr: 8.0000e-04\n",
            "Epoch 7/80\n",
            "937/937 [==============================] - 408s 435ms/step - loss: 1.5766 - categorical_accuracy: 0.2680 - f1_score: 0.2630 - recall_multi: 0.8000 - top_2_accuracy: 0.4985 - val_loss: 1.9407 - val_categorical_accuracy: 0.1293 - val_f1_score: 0.0989 - val_recall_multi: 0.9194 - val_top_2_accuracy: 0.2480 - lr: 8.0000e-04\n",
            "Epoch 8/80\n",
            "704/937 [=====================>........] - ETA: 1:30 - loss: 1.5707 - categorical_accuracy: 0.2725 - f1_score: 0.2655 - recall_multi: 0.8007 - top_2_accuracy: 0.5001"
          ],
          "name": "stdout"
        },
        {
          "output_type": "error",
          "ename": "KeyboardInterrupt",
          "evalue": "ignored",
          "traceback": [
            "\u001b[0;31m---------------------------------------------------------------------------\u001b[0m",
            "\u001b[0;31mKeyboardInterrupt\u001b[0m                         Traceback (most recent call last)",
            "\u001b[0;32m<ipython-input-20-aec34a97a8d9>\u001b[0m in \u001b[0;36m<module>\u001b[0;34m()\u001b[0m\n\u001b[1;32m      7\u001b[0m           \u001b[0;31m# class_weight=weights,\u001b[0m\u001b[0;34m\u001b[0m\u001b[0;34m\u001b[0m\u001b[0;34m\u001b[0m\u001b[0m\n\u001b[1;32m      8\u001b[0m           \u001b[0mepochs\u001b[0m\u001b[0;34m=\u001b[0m\u001b[0;36m80\u001b[0m\u001b[0;34m,\u001b[0m\u001b[0;34m\u001b[0m\u001b[0;34m\u001b[0m\u001b[0m\n\u001b[0;32m----> 9\u001b[0;31m           \u001b[0mcallbacks\u001b[0m\u001b[0;34m=\u001b[0m\u001b[0mcallbacks\u001b[0m\u001b[0;34m\u001b[0m\u001b[0;34m\u001b[0m\u001b[0m\n\u001b[0m\u001b[1;32m     10\u001b[0m           )\n",
            "\u001b[0;32m/usr/local/lib/python3.6/dist-packages/tensorflow/python/keras/engine/training.py\u001b[0m in \u001b[0;36m_method_wrapper\u001b[0;34m(self, *args, **kwargs)\u001b[0m\n\u001b[1;32m     64\u001b[0m   \u001b[0;32mdef\u001b[0m \u001b[0m_method_wrapper\u001b[0m\u001b[0;34m(\u001b[0m\u001b[0mself\u001b[0m\u001b[0;34m,\u001b[0m \u001b[0;34m*\u001b[0m\u001b[0margs\u001b[0m\u001b[0;34m,\u001b[0m \u001b[0;34m**\u001b[0m\u001b[0mkwargs\u001b[0m\u001b[0;34m)\u001b[0m\u001b[0;34m:\u001b[0m\u001b[0;34m\u001b[0m\u001b[0;34m\u001b[0m\u001b[0m\n\u001b[1;32m     65\u001b[0m     \u001b[0;32mif\u001b[0m \u001b[0;32mnot\u001b[0m \u001b[0mself\u001b[0m\u001b[0;34m.\u001b[0m\u001b[0m_in_multi_worker_mode\u001b[0m\u001b[0;34m(\u001b[0m\u001b[0;34m)\u001b[0m\u001b[0;34m:\u001b[0m  \u001b[0;31m# pylint: disable=protected-access\u001b[0m\u001b[0;34m\u001b[0m\u001b[0;34m\u001b[0m\u001b[0m\n\u001b[0;32m---> 66\u001b[0;31m       \u001b[0;32mreturn\u001b[0m \u001b[0mmethod\u001b[0m\u001b[0;34m(\u001b[0m\u001b[0mself\u001b[0m\u001b[0;34m,\u001b[0m \u001b[0;34m*\u001b[0m\u001b[0margs\u001b[0m\u001b[0;34m,\u001b[0m \u001b[0;34m**\u001b[0m\u001b[0mkwargs\u001b[0m\u001b[0;34m)\u001b[0m\u001b[0;34m\u001b[0m\u001b[0;34m\u001b[0m\u001b[0m\n\u001b[0m\u001b[1;32m     67\u001b[0m \u001b[0;34m\u001b[0m\u001b[0m\n\u001b[1;32m     68\u001b[0m     \u001b[0;31m# Running inside `run_distribute_coordinator` already.\u001b[0m\u001b[0;34m\u001b[0m\u001b[0;34m\u001b[0m\u001b[0;34m\u001b[0m\u001b[0m\n",
            "\u001b[0;32m/usr/local/lib/python3.6/dist-packages/tensorflow/python/keras/engine/training.py\u001b[0m in \u001b[0;36mfit\u001b[0;34m(self, x, y, batch_size, epochs, verbose, callbacks, validation_split, validation_data, shuffle, class_weight, sample_weight, initial_epoch, steps_per_epoch, validation_steps, validation_batch_size, validation_freq, max_queue_size, workers, use_multiprocessing, **kwargs)\u001b[0m\n\u001b[1;32m    783\u001b[0m                 batch_size=batch_size):\n\u001b[1;32m    784\u001b[0m               \u001b[0mcallbacks\u001b[0m\u001b[0;34m.\u001b[0m\u001b[0mon_train_batch_begin\u001b[0m\u001b[0;34m(\u001b[0m\u001b[0mstep\u001b[0m\u001b[0;34m)\u001b[0m\u001b[0;34m\u001b[0m\u001b[0;34m\u001b[0m\u001b[0m\n\u001b[0;32m--> 785\u001b[0;31m               \u001b[0mtmp_logs\u001b[0m \u001b[0;34m=\u001b[0m \u001b[0mtrain_function\u001b[0m\u001b[0;34m(\u001b[0m\u001b[0miterator\u001b[0m\u001b[0;34m)\u001b[0m\u001b[0;34m\u001b[0m\u001b[0;34m\u001b[0m\u001b[0m\n\u001b[0m\u001b[1;32m    786\u001b[0m               \u001b[0;31m# Catch OutOfRangeError for Datasets of unknown size.\u001b[0m\u001b[0;34m\u001b[0m\u001b[0;34m\u001b[0m\u001b[0;34m\u001b[0m\u001b[0m\n\u001b[1;32m    787\u001b[0m               \u001b[0;31m# This blocks until the batch has finished executing.\u001b[0m\u001b[0;34m\u001b[0m\u001b[0;34m\u001b[0m\u001b[0;34m\u001b[0m\u001b[0m\n",
            "\u001b[0;32m/usr/local/lib/python3.6/dist-packages/tensorflow/python/eager/def_function.py\u001b[0m in \u001b[0;36m__call__\u001b[0;34m(self, *args, **kwds)\u001b[0m\n\u001b[1;32m    578\u001b[0m         \u001b[0mxla_context\u001b[0m\u001b[0;34m.\u001b[0m\u001b[0mExit\u001b[0m\u001b[0;34m(\u001b[0m\u001b[0;34m)\u001b[0m\u001b[0;34m\u001b[0m\u001b[0;34m\u001b[0m\u001b[0m\n\u001b[1;32m    579\u001b[0m     \u001b[0;32melse\u001b[0m\u001b[0;34m:\u001b[0m\u001b[0;34m\u001b[0m\u001b[0;34m\u001b[0m\u001b[0m\n\u001b[0;32m--> 580\u001b[0;31m       \u001b[0mresult\u001b[0m \u001b[0;34m=\u001b[0m \u001b[0mself\u001b[0m\u001b[0;34m.\u001b[0m\u001b[0m_call\u001b[0m\u001b[0;34m(\u001b[0m\u001b[0;34m*\u001b[0m\u001b[0margs\u001b[0m\u001b[0;34m,\u001b[0m \u001b[0;34m**\u001b[0m\u001b[0mkwds\u001b[0m\u001b[0;34m)\u001b[0m\u001b[0;34m\u001b[0m\u001b[0;34m\u001b[0m\u001b[0m\n\u001b[0m\u001b[1;32m    581\u001b[0m \u001b[0;34m\u001b[0m\u001b[0m\n\u001b[1;32m    582\u001b[0m     \u001b[0;32mif\u001b[0m \u001b[0mtracing_count\u001b[0m \u001b[0;34m==\u001b[0m \u001b[0mself\u001b[0m\u001b[0;34m.\u001b[0m\u001b[0m_get_tracing_count\u001b[0m\u001b[0;34m(\u001b[0m\u001b[0;34m)\u001b[0m\u001b[0;34m:\u001b[0m\u001b[0;34m\u001b[0m\u001b[0;34m\u001b[0m\u001b[0m\n",
            "\u001b[0;32m/usr/local/lib/python3.6/dist-packages/tensorflow/python/eager/def_function.py\u001b[0m in \u001b[0;36m_call\u001b[0;34m(self, *args, **kwds)\u001b[0m\n\u001b[1;32m    609\u001b[0m       \u001b[0;31m# In this case we have created variables on the first call, so we run the\u001b[0m\u001b[0;34m\u001b[0m\u001b[0;34m\u001b[0m\u001b[0;34m\u001b[0m\u001b[0m\n\u001b[1;32m    610\u001b[0m       \u001b[0;31m# defunned version which is guaranteed to never create variables.\u001b[0m\u001b[0;34m\u001b[0m\u001b[0;34m\u001b[0m\u001b[0;34m\u001b[0m\u001b[0m\n\u001b[0;32m--> 611\u001b[0;31m       \u001b[0;32mreturn\u001b[0m \u001b[0mself\u001b[0m\u001b[0;34m.\u001b[0m\u001b[0m_stateless_fn\u001b[0m\u001b[0;34m(\u001b[0m\u001b[0;34m*\u001b[0m\u001b[0margs\u001b[0m\u001b[0;34m,\u001b[0m \u001b[0;34m**\u001b[0m\u001b[0mkwds\u001b[0m\u001b[0;34m)\u001b[0m  \u001b[0;31m# pylint: disable=not-callable\u001b[0m\u001b[0;34m\u001b[0m\u001b[0;34m\u001b[0m\u001b[0m\n\u001b[0m\u001b[1;32m    612\u001b[0m     \u001b[0;32melif\u001b[0m \u001b[0mself\u001b[0m\u001b[0;34m.\u001b[0m\u001b[0m_stateful_fn\u001b[0m \u001b[0;32mis\u001b[0m \u001b[0;32mnot\u001b[0m \u001b[0;32mNone\u001b[0m\u001b[0;34m:\u001b[0m\u001b[0;34m\u001b[0m\u001b[0;34m\u001b[0m\u001b[0m\n\u001b[1;32m    613\u001b[0m       \u001b[0;31m# Release the lock early so that multiple threads can perform the call\u001b[0m\u001b[0;34m\u001b[0m\u001b[0;34m\u001b[0m\u001b[0;34m\u001b[0m\u001b[0m\n",
            "\u001b[0;32m/usr/local/lib/python3.6/dist-packages/tensorflow/python/eager/function.py\u001b[0m in \u001b[0;36m__call__\u001b[0;34m(self, *args, **kwargs)\u001b[0m\n\u001b[1;32m   2418\u001b[0m     \u001b[0;32mwith\u001b[0m \u001b[0mself\u001b[0m\u001b[0;34m.\u001b[0m\u001b[0m_lock\u001b[0m\u001b[0;34m:\u001b[0m\u001b[0;34m\u001b[0m\u001b[0;34m\u001b[0m\u001b[0m\n\u001b[1;32m   2419\u001b[0m       \u001b[0mgraph_function\u001b[0m\u001b[0;34m,\u001b[0m \u001b[0margs\u001b[0m\u001b[0;34m,\u001b[0m \u001b[0mkwargs\u001b[0m \u001b[0;34m=\u001b[0m \u001b[0mself\u001b[0m\u001b[0;34m.\u001b[0m\u001b[0m_maybe_define_function\u001b[0m\u001b[0;34m(\u001b[0m\u001b[0margs\u001b[0m\u001b[0;34m,\u001b[0m \u001b[0mkwargs\u001b[0m\u001b[0;34m)\u001b[0m\u001b[0;34m\u001b[0m\u001b[0;34m\u001b[0m\u001b[0m\n\u001b[0;32m-> 2420\u001b[0;31m     \u001b[0;32mreturn\u001b[0m \u001b[0mgraph_function\u001b[0m\u001b[0;34m.\u001b[0m\u001b[0m_filtered_call\u001b[0m\u001b[0;34m(\u001b[0m\u001b[0margs\u001b[0m\u001b[0;34m,\u001b[0m \u001b[0mkwargs\u001b[0m\u001b[0;34m)\u001b[0m  \u001b[0;31m# pylint: disable=protected-access\u001b[0m\u001b[0;34m\u001b[0m\u001b[0;34m\u001b[0m\u001b[0m\n\u001b[0m\u001b[1;32m   2421\u001b[0m \u001b[0;34m\u001b[0m\u001b[0m\n\u001b[1;32m   2422\u001b[0m   \u001b[0;34m@\u001b[0m\u001b[0mproperty\u001b[0m\u001b[0;34m\u001b[0m\u001b[0;34m\u001b[0m\u001b[0m\n",
            "\u001b[0;32m/usr/local/lib/python3.6/dist-packages/tensorflow/python/eager/function.py\u001b[0m in \u001b[0;36m_filtered_call\u001b[0;34m(self, args, kwargs)\u001b[0m\n\u001b[1;32m   1663\u001b[0m          if isinstance(t, (ops.Tensor,\n\u001b[1;32m   1664\u001b[0m                            resource_variable_ops.BaseResourceVariable))),\n\u001b[0;32m-> 1665\u001b[0;31m         self.captured_inputs)\n\u001b[0m\u001b[1;32m   1666\u001b[0m \u001b[0;34m\u001b[0m\u001b[0m\n\u001b[1;32m   1667\u001b[0m   \u001b[0;32mdef\u001b[0m \u001b[0m_call_flat\u001b[0m\u001b[0;34m(\u001b[0m\u001b[0mself\u001b[0m\u001b[0;34m,\u001b[0m \u001b[0margs\u001b[0m\u001b[0;34m,\u001b[0m \u001b[0mcaptured_inputs\u001b[0m\u001b[0;34m,\u001b[0m \u001b[0mcancellation_manager\u001b[0m\u001b[0;34m=\u001b[0m\u001b[0;32mNone\u001b[0m\u001b[0;34m)\u001b[0m\u001b[0;34m:\u001b[0m\u001b[0;34m\u001b[0m\u001b[0;34m\u001b[0m\u001b[0m\n",
            "\u001b[0;32m/usr/local/lib/python3.6/dist-packages/tensorflow/python/eager/function.py\u001b[0m in \u001b[0;36m_call_flat\u001b[0;34m(self, args, captured_inputs, cancellation_manager)\u001b[0m\n\u001b[1;32m   1744\u001b[0m       \u001b[0;31m# No tape is watching; skip to running the function.\u001b[0m\u001b[0;34m\u001b[0m\u001b[0;34m\u001b[0m\u001b[0;34m\u001b[0m\u001b[0m\n\u001b[1;32m   1745\u001b[0m       return self._build_call_outputs(self._inference_function.call(\n\u001b[0;32m-> 1746\u001b[0;31m           ctx, args, cancellation_manager=cancellation_manager))\n\u001b[0m\u001b[1;32m   1747\u001b[0m     forward_backward = self._select_forward_and_backward_functions(\n\u001b[1;32m   1748\u001b[0m         \u001b[0margs\u001b[0m\u001b[0;34m,\u001b[0m\u001b[0;34m\u001b[0m\u001b[0;34m\u001b[0m\u001b[0m\n",
            "\u001b[0;32m/usr/local/lib/python3.6/dist-packages/tensorflow/python/eager/function.py\u001b[0m in \u001b[0;36mcall\u001b[0;34m(self, ctx, args, cancellation_manager)\u001b[0m\n\u001b[1;32m    596\u001b[0m               \u001b[0minputs\u001b[0m\u001b[0;34m=\u001b[0m\u001b[0margs\u001b[0m\u001b[0;34m,\u001b[0m\u001b[0;34m\u001b[0m\u001b[0;34m\u001b[0m\u001b[0m\n\u001b[1;32m    597\u001b[0m               \u001b[0mattrs\u001b[0m\u001b[0;34m=\u001b[0m\u001b[0mattrs\u001b[0m\u001b[0;34m,\u001b[0m\u001b[0;34m\u001b[0m\u001b[0;34m\u001b[0m\u001b[0m\n\u001b[0;32m--> 598\u001b[0;31m               ctx=ctx)\n\u001b[0m\u001b[1;32m    599\u001b[0m         \u001b[0;32melse\u001b[0m\u001b[0;34m:\u001b[0m\u001b[0;34m\u001b[0m\u001b[0;34m\u001b[0m\u001b[0m\n\u001b[1;32m    600\u001b[0m           outputs = execute.execute_with_cancellation(\n",
            "\u001b[0;32m/usr/local/lib/python3.6/dist-packages/tensorflow/python/eager/execute.py\u001b[0m in \u001b[0;36mquick_execute\u001b[0;34m(op_name, num_outputs, inputs, attrs, ctx, name)\u001b[0m\n\u001b[1;32m     58\u001b[0m     \u001b[0mctx\u001b[0m\u001b[0;34m.\u001b[0m\u001b[0mensure_initialized\u001b[0m\u001b[0;34m(\u001b[0m\u001b[0;34m)\u001b[0m\u001b[0;34m\u001b[0m\u001b[0;34m\u001b[0m\u001b[0m\n\u001b[1;32m     59\u001b[0m     tensors = pywrap_tfe.TFE_Py_Execute(ctx._handle, device_name, op_name,\n\u001b[0;32m---> 60\u001b[0;31m                                         inputs, attrs, num_outputs)\n\u001b[0m\u001b[1;32m     61\u001b[0m   \u001b[0;32mexcept\u001b[0m \u001b[0mcore\u001b[0m\u001b[0;34m.\u001b[0m\u001b[0m_NotOkStatusException\u001b[0m \u001b[0;32mas\u001b[0m \u001b[0me\u001b[0m\u001b[0;34m:\u001b[0m\u001b[0;34m\u001b[0m\u001b[0;34m\u001b[0m\u001b[0m\n\u001b[1;32m     62\u001b[0m     \u001b[0;32mif\u001b[0m \u001b[0mname\u001b[0m \u001b[0;32mis\u001b[0m \u001b[0;32mnot\u001b[0m \u001b[0;32mNone\u001b[0m\u001b[0;34m:\u001b[0m\u001b[0;34m\u001b[0m\u001b[0;34m\u001b[0m\u001b[0m\n",
            "\u001b[0;31mKeyboardInterrupt\u001b[0m: "
          ]
        }
      ]
    },
    {
      "cell_type": "markdown",
      "metadata": {
        "id": "l6xswgh2FM3Z",
        "colab_type": "text"
      },
      "source": [
        "Or load model from file"
      ]
    },
    {
      "cell_type": "code",
      "metadata": {
        "id": "FY6GnrGIFMkJ",
        "colab_type": "code",
        "outputId": "4caf57f2-0496-497b-fc0f-b485342c6d5b",
        "colab": {
          "base_uri": "https://localhost:8080/",
          "height": 34
        }
      },
      "source": [
        "loaded_model = tf.keras.models.load_model(\n",
        "    os.path.join(PROJECT_DIR, 'models', 'model.17-0.76.hdf5'),\n",
        "    {'top_2_accuracy' : top_2_accuracy}\n",
        ")"
      ],
      "execution_count": 0,
      "outputs": [
        {
          "output_type": "stream",
          "text": [
            "WARNING:tensorflow:Error in loading the saved optimizer state. As a result, your model is starting with a freshly initialized optimizer.\n"
          ],
          "name": "stdout"
        }
      ]
    },
    {
      "cell_type": "markdown",
      "metadata": {
        "id": "F0VqV8Mm21vD",
        "colab_type": "text"
      },
      "source": [
        "# Visualization\n",
        "#### Definitions"
      ]
    },
    {
      "cell_type": "code",
      "metadata": {
        "id": "3nztH8Tr3E1J",
        "colab_type": "code",
        "colab": {}
      },
      "source": [
        "def plot_filters(model, number_to_plot):\n",
        "  layer_outputs = [layer.output for layer in model.layers[-number_to_plot:]] # Extracts the outputs of the top 12 layers\n",
        "  activation_model = models.Model(inputs=model.input, outputs=layer_outputs) # Creates a model that will return these outputs, given the model input\n",
        "  activations = activation_model.predict(image_batch) # Returns a list of five Numpy arrays: one array per layer activation\n",
        "  # first_layer_activation = activations[1]\n",
        "  # plt.matshow(first_layer_activation[0, :, :, 4], cmap='viridis')\n",
        "\n",
        "  layer_names = []\n",
        "  for layer in model.layers[:8]:\n",
        "      layer_names.append(layer.name) # Names of the layers, so you can have them as part of your plot\n",
        "      \n",
        "  images_per_row = 16\n",
        "\n",
        "  for layer_name, layer_activation in zip(layer_names, activations): # Displays the feature maps\n",
        "      n_features = layer_activation.shape[-1] # Number of features in the feature map\n",
        "      size = layer_activation.shape[1] #The feature map has shape (1, size, size, n_features).\n",
        "      n_cols = n_features // images_per_row # Tiles the activation channels in this matrix\n",
        "      display_grid = np.zeros((size * n_cols, images_per_row * size))\n",
        "      for col in range(n_cols): # Tiles each filter into a big horizontal grid\n",
        "          for row in range(images_per_row):\n",
        "              channel_image = layer_activation[0,\n",
        "                                              :, :,\n",
        "                                              col * images_per_row + row]\n",
        "              channel_image -= channel_image.mean() # Post-processes the feature to make it visually palatable\n",
        "              channel_image /= channel_image.std()\n",
        "              channel_image *= 64\n",
        "              channel_image += 128\n",
        "              channel_image = np.clip(channel_image, 0, 255).astype('uint8')\n",
        "              display_grid[col * size : (col + 1) * size, # Displays the grid\n",
        "                          row * size : (row + 1) * size] = channel_image\n",
        "      scale = 1. / size\n",
        "      plt.figure(figsize=(scale * display_grid.shape[1],\n",
        "                          scale * display_grid.shape[0]))\n",
        "      plt.title(layer_name)\n",
        "      plt.grid(False)\n",
        "      plt.imshow(display_grid, aspect='auto', cmap='viridis')\n",
        "\n",
        "def plot_metric(metrics, metric_name):\n",
        "  plt.plot(metrics[metric_name])\n",
        "  plt.plot(metrics['val_' + metric_name])\n",
        "  plt.title(metric_name)\n",
        "  plt.ylabel(metric_name)\n",
        "  plt.xlabel('epoch')\n",
        "  plt.legend(['Training', 'Validation'], loc='upper left')\n",
        "  plt.show()\n",
        "\n",
        "def plot_f1(metrics):\n",
        "  fig, m_axs = plt.subplots(1, 2, figsize=(25,5))\n",
        "  \n",
        "  m_axs[0].plot(metrics['f1_score'])\n",
        "  m_axs[0].set_ylabel('f1_score')\n",
        "  m_axs[0].set_xlabel('epoch')\n",
        "  m_axs[0].set_title('Training')\n",
        "  m_axs[0].legend(CLASS_NAMES, loc='upper left')\n",
        "  \n",
        "  m_axs[1].plot(metrics['val_f1_score'])\n",
        "  m_axs[1].set_ylabel('val_f1_score')\n",
        "  m_axs[1].set_xlabel('epoch')\n",
        "  m_axs[1].set_title('Validation')\n",
        "  m_axs[1].legend(CLASS_NAMES, loc='upper left')"
      ],
      "execution_count": 0,
      "outputs": []
    },
    {
      "cell_type": "code",
      "metadata": {
        "id": "ZdItzrOiYdBb",
        "colab_type": "code",
        "colab": {
          "base_uri": "https://localhost:8080/",
          "height": 896
        },
        "outputId": "3ccbc405-3683-4df4-9c0a-361295a0452f"
      },
      "source": [
        "plot_metric(callack_history.metrics, 'loss')\n",
        "plot_metric(callack_history.metrics, 'categorical_accuracy')\n",
        "plot_f1(callack_history.metrics)"
      ],
      "execution_count": 23,
      "outputs": [
        {
          "output_type": "display_data",
          "data": {
            "image/png": "[encoded data removed]",
            "text/plain": [
              "<Figure size 432x288 with 1 Axes>"
            ]
          },
          "metadata": {
            "tags": [],
            "needs_background": "light"
          }
        },
        {
          "output_type": "display_data",
          "data": {
            "image/png": "[encoded data removed]",
            "text/plain": [
              "<Figure size 432x288 with 1 Axes>"
            ]
          },
          "metadata": {
            "tags": [],
            "needs_background": "light"
          }
        },
        {
          "output_type": "display_data",
          "data": {
            "image/png": "[encoded data removed]",
            "text/plain": [
              "<Figure size 1800x360 with 2 Axes>"
            ]
          },
          "metadata": {
            "tags": [],
            "needs_background": "light"
          }
        }
      ]
    },
    {
      "cell_type": "markdown",
      "metadata": {
        "id": "S-1xTd7xGdV5",
        "colab_type": "text"
      },
      "source": [
        "## Validation"
      ]
    },
    {
      "cell_type": "code",
      "metadata": {
        "id": "owurqv5p51iq",
        "colab_type": "code",
        "colab": {}
      },
      "source": [
        "image_batch, label_batch = next(iter(train_ds))\n",
        "show_batch(image_batch.numpy(), label_batch.numpy())"
      ],
      "execution_count": 0,
      "outputs": []
    },
    {
      "cell_type": "code",
      "metadata": {
        "colab_type": "code",
        "id": "kkbCJBrB_BOW",
        "outputId": "67c9e779-ea7b-4cf0-ae79-8ba19c600418",
        "colab": {
          "base_uri": "https://localhost:8080/",
          "height": 229
        }
      },
      "source": [
        "model_to_val = model\n",
        "\n",
        "image_batch, label_batch = next(iter(val_ds))\n",
        "model_to_val.evaluate(image_batch, label_batch, BATCH_SIZE)\n",
        "predicted_probabilities = model_to_val.predict(image_batch)\n",
        "print('Predicted probabilities:', predicted_probabilities)\n",
        "predicted_labels = np.argmax(predicted_probabilities,axis=1)\n",
        "print('Labels:', np.argmax(label_batch,axis=1))\n",
        "print('Predicted labels:', predicted_labels)\n",
        "show_batch(image_batch.numpy(), label_batch.numpy(),predicted_labels)"
      ],
      "execution_count": 0,
      "outputs": [
        {
          "output_type": "error",
          "ename": "NameError",
          "evalue": "ignored",
          "traceback": [
            "\u001b[0;31m---------------------------------------------------------------------------\u001b[0m",
            "\u001b[0;31mNameError\u001b[0m                                 Traceback (most recent call last)",
            "\u001b[0;32m<ipython-input-1-5012820f5cfe>\u001b[0m in \u001b[0;36m<module>\u001b[0;34m()\u001b[0m\n\u001b[0;32m----> 1\u001b[0;31m \u001b[0mmodel_to_val\u001b[0m \u001b[0;34m=\u001b[0m \u001b[0mmodel\u001b[0m\u001b[0;34m\u001b[0m\u001b[0;34m\u001b[0m\u001b[0m\n\u001b[0m\u001b[1;32m      2\u001b[0m \u001b[0;34m\u001b[0m\u001b[0m\n\u001b[1;32m      3\u001b[0m \u001b[0mimage_batch\u001b[0m\u001b[0;34m,\u001b[0m \u001b[0mlabel_batch\u001b[0m \u001b[0;34m=\u001b[0m \u001b[0mnext\u001b[0m\u001b[0;34m(\u001b[0m\u001b[0miter\u001b[0m\u001b[0;34m(\u001b[0m\u001b[0mval_ds\u001b[0m\u001b[0;34m)\u001b[0m\u001b[0;34m)\u001b[0m\u001b[0;34m\u001b[0m\u001b[0;34m\u001b[0m\u001b[0m\n\u001b[1;32m      4\u001b[0m \u001b[0mmodel_to_val\u001b[0m\u001b[0;34m.\u001b[0m\u001b[0mevaluate\u001b[0m\u001b[0;34m(\u001b[0m\u001b[0mimage_batch\u001b[0m\u001b[0;34m,\u001b[0m \u001b[0mlabel_batch\u001b[0m\u001b[0;34m,\u001b[0m \u001b[0mBATCH_SIZE\u001b[0m\u001b[0;34m)\u001b[0m\u001b[0;34m\u001b[0m\u001b[0;34m\u001b[0m\u001b[0m\n\u001b[1;32m      5\u001b[0m \u001b[0mpredicted_probabilities\u001b[0m \u001b[0;34m=\u001b[0m \u001b[0mmodel_to_val\u001b[0m\u001b[0;34m.\u001b[0m\u001b[0mpredict\u001b[0m\u001b[0;34m(\u001b[0m\u001b[0mimage_batch\u001b[0m\u001b[0;34m)\u001b[0m\u001b[0;34m\u001b[0m\u001b[0;34m\u001b[0m\u001b[0m\n",
            "\u001b[0;31mNameError\u001b[0m: name 'model' is not defined"
          ]
        }
      ]
    },
    {
      "cell_type": "markdown",
      "metadata": {
        "id": "jxJ_AQGSTrBV",
        "colab_type": "text"
      },
      "source": [
        "# Other"
      ]
    },
    {
      "cell_type": "markdown",
      "metadata": {
        "id": "oWGuIDPbbt88",
        "colab_type": "text"
      },
      "source": [
        "Correctness of loss [CS231](http://cs231n.github.io/neural-networks-3/#sanitycheck) <font color='green'>OK</font>\n",
        "\n",
        "Loss should be equal -ln(1/len(classes))"
      ]
    },
    {
      "cell_type": "code",
      "metadata": {
        "id": "LoeLkz8oW_uG",
        "colab_type": "code",
        "outputId": "d4fbd12e-77be-4e19-c250-5a3751f08f01",
        "colab": {
          "base_uri": "https://localhost:8080/",
          "height": 34
        }
      },
      "source": [
        "-np.log(1/len(CLASS_NAMES))"
      ],
      "execution_count": 0,
      "outputs": [
        {
          "output_type": "execute_result",
          "data": {
            "text/plain": [
              "1.6094379124341003"
            ]
          },
          "metadata": {
            "tags": []
          },
          "execution_count": 36
        }
      ]
    }
  ]
}